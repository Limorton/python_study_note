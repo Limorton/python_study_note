{
 "cells": [
  {
   "cell_type": "markdown",
   "metadata": {},
   "source": [
    "## 语法部分：流程控制、函数"
   ]
  },
  {
   "cell_type": "markdown",
   "metadata": {},
   "source": [
    "### 逻辑值\n",
    "True False None\n",
    "\n",
    "逻辑等：==\n",
    "逻辑与：and\n",
    "逻辑或：or\n",
    "逻辑非：not !=\n",
    "\n",
    "and 的优先级比 or 高。python的逻辑与和逻辑或同样有短路特性。"
   ]
  },
  {
   "cell_type": "markdown",
   "metadata": {},
   "source": [
    "### if-语句"
   ]
  },
  {
   "cell_type": "code",
   "execution_count": 1,
   "metadata": {},
   "outputs": [
    {
     "name": "stdout",
     "output_type": "stream",
     "text": [
      "if\n",
      "elif\n"
     ]
    }
   ],
   "source": [
    "if True:\n",
    "    print('if')\n",
    "else:\n",
    "    print('else')\n",
    "if False:\n",
    "    print('if')\n",
    "    pass\n",
    "elif True:\n",
    "    print('elif')\n",
    "else:\n",
    "    print('else')\n"
   ]
  },
  {
   "cell_type": "markdown",
   "metadata": {},
   "source": [
    "### 条件表达式"
   ]
  },
  {
   "cell_type": "code",
   "execution_count": 5,
   "metadata": {},
   "outputs": [
    {
     "name": "stdout",
     "output_type": "stream",
     "text": [
      "Input a food name: meat\n",
      "dislike it\n"
     ]
    }
   ],
   "source": [
    "food = input(\"Input a food name: \")\n",
    "print('like it' if food == 'noddles' else 'dislike it')"
   ]
  },
  {
   "cell_type": "markdown",
   "metadata": {},
   "source": [
    "### for-循环"
   ]
  },
  {
   "cell_type": "code",
   "execution_count": 16,
   "metadata": {},
   "outputs": [
    {
     "name": "stdout",
     "output_type": "stream",
     "text": [
      "0123456789\n",
      "\n",
      "5.6.7.8.9.\n",
      "\n",
      "10987654321"
     ]
    }
   ],
   "source": [
    "for i in range(10):  # default start value is 0\n",
    "    print(i, end = '')\n",
    "print('\\n')\n",
    "for i in range(5, 10):\n",
    "    print(i, end = '.')\n",
    "print('\\n')\n",
    "for i in range(10,0,-1):\n",
    "    print(i, end = '')"
   ]
  },
  {
   "cell_type": "markdown",
   "metadata": {},
   "source": [
    "### while-循环"
   ]
  },
  {
   "cell_type": "code",
   "execution_count": 15,
   "metadata": {},
   "outputs": [
    {
     "name": "stdout",
     "output_type": "stream",
     "text": [
      "0,1,2,3,4,5,6,7,8,9,"
     ]
    }
   ],
   "source": [
    "i=0\n",
    "while i < 10:\n",
    "    print(i, end = ',')\n",
    "    i += 1\n",
    "# 很多程序员都尽量使用for循环，仅在必要时才使用while循环"
   ]
  },
  {
   "cell_type": "code",
   "execution_count": 2,
   "metadata": {},
   "outputs": [
    {
     "name": "stdout",
     "output_type": "stream",
     "text": [
      "Enter numbers(or \"done\"):1\n",
      "Enter numbers(or \"done\"):2\n",
      "Enter numbers(or \"done\"):3\n",
      "Enter numbers(or \"done\"):done\n",
      "sum = 6\n"
     ]
    }
   ],
   "source": [
    "sum = 0\n",
    "s = input('Enter numbers(or \"done\"):')\n",
    "while(s != 'done'):\n",
    "    sum += int(s)\n",
    "    s = input('Enter numbers(or \"done\"):')\n",
    "print('sum = ' + str(sum))"
   ]
  },
  {
   "cell_type": "markdown",
   "metadata": {},
   "source": [
    "跳出循环用：break continue pass"
   ]
  },
  {
   "cell_type": "markdown",
   "metadata": {},
   "source": [
    "### 定义函数\n",
    "    给函数名赋值时，若无意间让内置函数名指向其他函数，在运行时调用该内置函数时会报错，要恢复原样需重启python\n",
    "    python文档字符串用三引号标识开始和结束。自定义函数也可以编写文档字符串并像内置函数一样被调用:print(fun.__doc__)；\n",
    "    如果函数没有包含return语句，python将认为它以--return None--结束\n",
    "    python的参数传递采用引用传递，而且不支持按值传递\n",
    "    python与C++一样支持默认参数值"
   ]
  },
  {
   "cell_type": "code",
   "execution_count": 8,
   "metadata": {},
   "outputs": [
    {
     "name": "stdout",
     "output_type": "stream",
     "text": [
      "Return the area of circle with the given radius.\n",
      "3.141592653589793\n"
     ]
    }
   ],
   "source": [
    "import math\n",
    "def area(radius = 1):\n",
    "    '''Return the area of circle with the given radius.'''\n",
    "    return math.pi*radius**2\n",
    "print(area.__doc__)\n",
    "print(area(1))"
   ]
  },
  {
   "cell_type": "markdown",
   "metadata": {},
   "source": [
    "### 使用main()函数：在python程序中，main函数是可选的，但通常也都至少应该使用一个main函数\n",
    "    使用main()函数的优点是可更轻松地反复运行程序，还可以传递输入值"
   ]
  },
  {
   "cell_type": "markdown",
   "metadata": {},
   "source": [
    "### 关于按引用传递的一个重要示例:"
   ]
  },
  {
   "cell_type": "code",
   "execution_count": 10,
   "metadata": {},
   "outputs": [
    {
     "name": "stdout",
     "output_type": "stream",
     "text": [
      "5\n"
     ]
    }
   ],
   "source": [
    "def set1(x):\n",
    "    x = 1\n",
    "m = 5\n",
    "set1(m)\n",
    "print(m)\n",
    "# m的值没有变化，解释如下：\n",
    "# 一开始：m指向5，调用set1(x)后，将m的值赋给x，这样m和x都指向5，将1赋给x后，x指向1，但是m仍指向5\n",
    "# 因此在函数set1中，根本不能访问变量m，因此无法修改它指向的值"
   ]
  },
  {
   "cell_type": "markdown",
   "metadata": {},
   "source": [
    "### 函数的关键字参数\n",
    "调用函数时可以使用关键字参数，以parm = value的方式传递数据。这可以提高程序可读性，也方便多参数的函数的调用"
   ]
  },
  {
   "cell_type": "code",
   "execution_count": 13,
   "metadata": {},
   "outputs": [
    {
     "name": "stdout",
     "output_type": "stream",
     "text": [
      "shop at wanda, spend $100 on hat\n",
      "shop at wanda, spend $105 on shoes\n"
     ]
    }
   ],
   "source": [
    "def shop(where = 'wanda', what = 'clothes', howmuch = '$200'):\n",
    "    print('shop at ' + where + ', spend ' + howmuch + \" on \" + what)\n",
    "shop(what = 'hat',where = 'wanda', howmuch = '$100')\n",
    "shop(what = 'shoes', howmuch = '$105')"
   ]
  },
  {
   "cell_type": "markdown",
   "metadata": {},
   "source": [
    "### 偏函数"
   ]
  },
  {
   "cell_type": "markdown",
   "metadata": {},
   "source": [
    "Python的functools模块提供了很多有用的功能，其中一个就是偏函数（Partial function）。\n",
    "偏函数又可以翻译成部分函数，大概意思就是说，只设置一部分参数。\n",
    "举个例子，我们知道int()可以把字符串变成十进制数字，假设要转换大量的二进制字符串，每次都传入int(x, base=2)非常麻烦，于是，我们想到，可以定义一个int2()的函数，默认把base=2传进去："
   ]
  },
  {
   "cell_type": "code",
   "execution_count": 2,
   "metadata": {
    "collapsed": true
   },
   "outputs": [],
   "source": [
    "def int2(x, base=2):\n",
    "    return int(x, base)"
   ]
  },
  {
   "cell_type": "markdown",
   "metadata": {},
   "source": [
    "这样，我们转换二进制就非常方便了："
   ]
  },
  {
   "cell_type": "code",
   "execution_count": 3,
   "metadata": {},
   "outputs": [
    {
     "data": {
      "text/plain": [
       "64"
      ]
     },
     "execution_count": 3,
     "metadata": {},
     "output_type": "execute_result"
    }
   ],
   "source": [
    "int2('1000000')"
   ]
  },
  {
   "cell_type": "markdown",
   "metadata": {},
   "source": [
    "functools.partial就是帮助我们创建一个偏函数的，不需要我们自己定义int2()，可以直接使用下面的代码创建一个新的函数int2："
   ]
  },
  {
   "cell_type": "code",
   "execution_count": 4,
   "metadata": {},
   "outputs": [
    {
     "data": {
      "text/plain": [
       "64"
      ]
     },
     "execution_count": 4,
     "metadata": {},
     "output_type": "execute_result"
    }
   ],
   "source": [
    "import functools\n",
    "\n",
    "int2 = functools.partial(int, base=2)\n",
    "int2('1000000')"
   ]
  },
  {
   "cell_type": "markdown",
   "metadata": {},
   "source": [
    "所以，简单总结functools.partial的作用就是，把一个函数的某些参数给固定住（也就是设置默认值），返回一个新的函数，调用这个新函数会更简单。\n",
    "注意到上面的新的int2函数，仅仅是把base参数重新设定默认值为2，但也可以在函数调用时传入其他值："
   ]
  },
  {
   "cell_type": "code",
   "execution_count": 5,
   "metadata": {},
   "outputs": [
    {
     "data": {
      "text/plain": [
       "1000000"
      ]
     },
     "execution_count": 5,
     "metadata": {},
     "output_type": "execute_result"
    }
   ],
   "source": [
    "int2('1000000', base=10)"
   ]
  },
  {
   "cell_type": "code",
   "execution_count": 8,
   "metadata": {},
   "outputs": [
    {
     "data": {
      "text/plain": [
       "18"
      ]
     },
     "execution_count": 8,
     "metadata": {},
     "output_type": "execute_result"
    }
   ],
   "source": [
    "kw = {'base': 2}\n",
    "int('10010', **kw)"
   ]
  },
  {
   "cell_type": "markdown",
   "metadata": {},
   "source": [
    "继续同理，我们可以用*把一个list塞进来"
   ]
  },
  {
   "cell_type": "code",
   "execution_count": 6,
   "metadata": {},
   "outputs": [
    {
     "data": {
      "text/plain": [
       "10"
      ]
     },
     "execution_count": 6,
     "metadata": {},
     "output_type": "execute_result"
    }
   ],
   "source": [
    "max2 = functools.partial(max, 10)\n",
    "\n",
    "max2(5, 6, 7)"
   ]
  },
  {
   "cell_type": "markdown",
   "metadata": {},
   "source": [
    "相当于："
   ]
  },
  {
   "cell_type": "code",
   "execution_count": 7,
   "metadata": {},
   "outputs": [
    {
     "data": {
      "text/plain": [
       "10"
      ]
     },
     "execution_count": 7,
     "metadata": {},
     "output_type": "execute_result"
    }
   ],
   "source": [
    "args = (10, 5, 6, 7)\n",
    "max(*args)"
   ]
  },
  {
   "cell_type": "markdown",
   "metadata": {},
   "source": [
    "注意，10在最左边。"
   ]
  },
  {
   "cell_type": "markdown",
   "metadata": {},
   "source": [
    "### 关于模块\n",
    "模块是一系列相关的函数和变量。要创建模块，可创建一个.py文件，在其中包含用于完成任务的函数。模块与常规Python程序之间唯一的差别是用途不同，模块是一个由函数组成的工具箱，用于编写其他程序。因此，模块通常没有main()函数。\n",
    "\n",
    "要使用模块，只需导入它即可。关于导入时的模块路径问题，请参考我的收藏或自行百度\n",
    "一个模块对应一个名称空间（这样可以避免名称冲突），调用模块内函数时的语法格式为：mokuai.func(args)"
   ]
  },
  {
   "cell_type": "code",
   "execution_count": null,
   "metadata": {
    "collapsed": true
   },
   "outputs": [],
   "source": []
  }
 ],
 "metadata": {
  "kernelspec": {
   "display_name": "Python 3",
   "language": "python",
   "name": "python3"
  },
  "language_info": {
   "codemirror_mode": {
    "name": "ipython",
    "version": 3
   },
   "file_extension": ".py",
   "mimetype": "text/x-python",
   "name": "python",
   "nbconvert_exporter": "python",
   "pygments_lexer": "ipython3",
   "version": "3.6.1"
  }
 },
 "nbformat": 4,
 "nbformat_minor": 2
}
