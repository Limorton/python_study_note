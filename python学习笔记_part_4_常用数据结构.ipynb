{
 "cells": [
  {
   "cell_type": "markdown",
   "metadata": {},
   "source": [
    "## 语法部分：数据结构——type命令、序列、元组、列表、字典、集合"
   ]
  },
  {
   "cell_type": "markdown",
   "metadata": {},
   "source": [
    "### type命令：用来获取数据类型"
   ]
  },
  {
   "cell_type": "code",
   "execution_count": 1,
   "metadata": {},
   "outputs": [
    {
     "name": "stdout",
     "output_type": "stream",
     "text": [
      "<class 'int'>,<class 'float'>,<class 'type'>,<class 'str'>,<class 'builtin_function_or_method'>\n",
      "True\n",
      "True\n",
      "False\n",
      "True\n",
      "1504204608\n",
      "1504204608\n"
     ]
    }
   ],
   "source": [
    "print(type(5),type(5.0),type(int),type('5'),type(print),sep = ',')  # 粗略地说，类和类型是同义词\n",
    "\n",
    "# 判断某个变量是否是某种类型\n",
    "print(type([])==list)\n",
    "print(type(123) == int)\n",
    "print(type('abc') == type(123))\n",
    "\n",
    "# isinstance()可以告诉我们，一个对象是否是某种类型（包括继承关系）\n",
    "class A:\n",
    "    pass\n",
    "class B(A):\n",
    "    pass\n",
    "class C(B):\n",
    "    pass\n",
    "k=A()\n",
    "g=B()\n",
    "y=C()\n",
    "print(isinstance(y, C))\n",
    "\n",
    "# 获取内存地址\n",
    "a = 6\n",
    "print(id(a))\n",
    "print(id(6))"
   ]
  },
  {
   "cell_type": "markdown",
   "metadata": {},
   "source": [
    "### 序列\n",
    "    Python中有3种内置的序列类型--字符串(str)、元组(tuple)和列表(list)\n",
    "    序列是按顺序排列的，字典(dict)和集合(set)就不是序列，因为它们只关心自己是否包含了特定的元素，而不关心元素的相对顺序\n",
    "    理论上，序列的长度可以无限长，但实际受制于计算机的可用内存量\n",
    "    序列都支持索引访问和切片操作"
   ]
  },
  {
   "cell_type": "code",
   "execution_count": 17,
   "metadata": {},
   "outputs": [
    {
     "name": "stdout",
     "output_type": "stream",
     "text": [
      "[1, 2, 3, 4, 3, 4, 5, 6, 7, 8] [1, 2, 3, 4, 1, 2, 3, 4] True\n"
     ]
    }
   ],
   "source": [
    "a = [1,2,3,4]\n",
    "b = [3,4,5,6,7,8]\n",
    "e = a + b\n",
    "f = a * 2\n",
    "print(e,f,1 in a)"
   ]
  },
  {
   "cell_type": "markdown",
   "metadata": {},
   "source": [
    "### 元组(tuple)\n",
    "    一种不可变序列，包含零个或多个值，可以包含任何python值\n",
    "    在单元素元组中，末尾的逗号必不可少，用以表示是元组；\n",
    "    空元组用形如'tup = ()'表示；\n",
    "    只有一个元素的元组用形如'tup = (1,)'表示\n",
    "    元组的不可修改性增加了修改大型元组所需时间和内存，所以若需频繁修改，可使用列表替代它；\n",
    "    tuple的不变本质是其指向不变，其指向的变量的内容实际是可能可变的"
   ]
  },
  {
   "cell_type": "code",
   "execution_count": 18,
   "metadata": {},
   "outputs": [
    {
     "name": "stdout",
     "output_type": "stream",
     "text": [
      "<class 'tuple'> 3\n",
      "<class 'int'> <class 'tuple'>\n",
      "('dog', 'cat', 'bird', 'dog')\n",
      "4\n",
      "2\n",
      "2\n",
      "False\n"
     ]
    }
   ],
   "source": [
    "item = (-5, 'cat', [1,2,3])\n",
    "item2 = (-5)\n",
    "item3 = (-5,)\n",
    "print(type(item),len(item))\n",
    "print(type(item2),type(item3))\n",
    "pets = ('dog','cat','bird','dog')\n",
    "# 元组函数\n",
    "print(pets)\n",
    "print(len(pets))\n",
    "print(pets.count('dog'))\n",
    "print(pets.index('bird'))\n",
    "print('fish' in pets)"
   ]
  },
  {
   "cell_type": "markdown",
   "metadata": {},
   "source": [
    "### 列表(list)\n",
    "    列表与元组基本相同，但是可修改的\n",
    "    空元组用'item = []'表示"
   ]
  },
  {
   "cell_type": "code",
   "execution_count": 30,
   "metadata": {
    "collapsed": true
   },
   "outputs": [
    {
     "name": "stdout",
     "output_type": "stream",
     "text": [
      "<class 'list'>\n",
      "[3]\n",
      "['mouse', (1,), 'dog', 'cat']\n",
      "[1, [...], 3]\n",
      "append:  [1, 2, 3, 4, 5, 6, [6, 7, 8]]\n",
      "count:  1\n",
      "extend:  [1, 2, 3, 4, 5, 6, [6, 7, 8], 6, 7, 8]\n",
      "index:  5 [1, 2, 3, 4, 5, 6, [6, 7, 8], 6, 7, 8]\n",
      "insert:  None [1, 2, 2.5, 3, 4, 5, 6, [6, 7, 8], 6, 7, 8]\n",
      "pop:  7 [1, 2, 2.5, 3, 4, 5, 6, [6, 7, 8], 6, 8]\n",
      "remove:  None [1, 2, 2.5, 3, 4, 5, 6, 6, 8]\n",
      "reverse:  None [8, 6, 6, 5, 4, 3, 2.5, 2, 1]\n",
      "sort:  None [1, 2, 2.5, 3, 4, 5, 6, 6, 8]\n"
     ]
    }
   ],
   "source": [
    "muse = [3, (1,), 'dog', 'cat']\n",
    "print(type(muse),muse[:-3],sep = '\\n')\n",
    "muse[0] = 'mouse'\n",
    "print(muse)\n",
    "# 列表的自引用\n",
    "snake = [1,2,3]\n",
    "snake[1] = snake # snake[1]指向列表本身，python能够识别自引用\n",
    "print(snake)\n",
    "# 列表函数\n",
    "s = [1,2,3,4,5,6]\n",
    "s.append([6,7,8])\n",
    "print('append: ',s)                    # 在列表s末尾添加元素[6,7,8]\n",
    "print('count: ',s.count(6))\n",
    "s.extend([6,7,8])\n",
    "print('extend: ',s)                    # 将[6,7,8]中的所有元素都添加到列表s的末尾\n",
    "print('index: ',s.index(6),s)          # 返回第一次x元素的索引\n",
    "print('insert: ',s.insert(2,2.5),s)    # 将元素2.5插入索引为2的元素前面，结果为s[2] = 2.5\n",
    "print('pop: ',s.pop(len(s)-2),s)       # 弹出索引为len(s)-2的元素\n",
    "print('remove: ',s.remove([6,7,8]),s)  # 删除某元素\n",
    "print('reverse: ',s.reverse(),s)       # 翻转\n",
    "print('sort: ',s.sort(),s)             # 按字典序升序排列，若要降序排列，可先sort再reverse"
   ]
  },
  {
   "cell_type": "markdown",
   "metadata": {},
   "source": [
    "### 列表解析：用于创建列表的便捷方法"
   ]
  },
  {
   "cell_type": "code",
   "execution_count": 5,
   "metadata": {},
   "outputs": [
    {
     "name": "stdout",
     "output_type": "stream",
     "text": [
      "[1, 4, 9, 16, 25, 36, 49, 64, 81, 100]\n",
      "[7, 9, 11, 13, 15, 17, 19, 21, 23, 25, 27]\n",
      "['p', 'i', 'z', 'z', 'a']\n",
      "['P', 'I', 'Z', 'Z', 'A']\n",
      "['Al', 'Mei', 'Joe', 'Del']\n",
      "[-1, 0, 3]\n",
      "ppl Sc\n",
      "ppl Sc\n",
      "[[100, 0, 0], [0, 0, 0], [0, 0, 0]]\n"
     ]
    }
   ],
   "source": [
    "# 列表解析(用于创建列表的便捷方法)\n",
    "nums = [n**2 for n in range(1,11)]\n",
    "print(nums)\n",
    "nums = [2*n + 7 for n in range(11)]\n",
    "print(nums)\n",
    "chs = [c for c in 'pizza']\n",
    "chs2 = [c.upper() for c in 'pizza']\n",
    "print(chs, chs2, sep = '\\n')\n",
    "# 列表解析的常见用途——以某种方式修改现有列表\n",
    "name = ['al', 'mei', 'joE', 'Del']\n",
    "name = [s.capitalize() for s in name]\n",
    "print(name)\n",
    "nums = [-1,0,6,-4,-2,3]\n",
    "res = [n for n in nums if(n > -2 and n < 5)]\n",
    "print(res)\n",
    "food = 'Apple Sauce'\n",
    "print(''.join([c for c in food if c.lower() not in 'aeiou'])) # 删除元音\n",
    "print(''.join(c for c in food if c.lower() not in 'aeiou'))  # 去掉上面的中括号，变成生成器表达式\n",
    "# 二维数组的列表解析\n",
    "'''\n",
    "# 浅拷贝\n",
    "li_2d = [[0] * 3] * 3\n",
    "print(li_2d)\n",
    "li_2d[0][0] = 100\n",
    "print(li_2d)\n",
    "'''\n",
    "# 深拷贝\n",
    "li_2d = [[0] * 3 for i in range(3)]\n",
    "li_2d[0][0] = 100\n",
    "print(li_2d)\n"
   ]
  },
  {
   "cell_type": "markdown",
   "metadata": {},
   "source": [
    "### 字典(dict)\n",
    "    存储键-值对，字典中的键必须是独一无二的，而且不可变的，因此字典键不能是列表，也不能是字典"
   ]
  },
  {
   "cell_type": "code",
   "execution_count": 49,
   "metadata": {},
   "outputs": [
    {
     "name": "stdout",
     "output_type": "stream",
     "text": [
      "3\n",
      "{'red': 0, 'blue': 2, 'green': 3, 'black': 5}\n",
      "dict_items([('red', 0), ('blue', 2), ('green', 3), ('black', 5)])\n",
      "dict_keys(['red', 'blue', 'green', 'black'])\n",
      "dict_values([0, 2, 3, 5])\n",
      "0\n",
      "5 {'red': 0, 'blue': 2, 'green': 3}\n",
      "('green', 3)\n",
      "{'red': 0, 'blue': 2, 'yellow': 4}\n",
      "{}\n"
     ]
    }
   ],
   "source": [
    "color = {'red':1, 'blue':2, 'green':3}\n",
    "print(color['green'])\n",
    "color['red'] = 0    # 修改键值\n",
    "color['black'] = 5  # 增加键值对\n",
    "print(color)\n",
    "# 字典函数\n",
    "print(color.items())   # 返回一个由字典的键值对组成的视图\n",
    "print(color.keys())                # 返回键组成的视图\n",
    "print(color.values())              # 返回值组成的视图\n",
    "print(color.get('red'))            # 返回与'red'对应的值\n",
    "print(color.pop('black'),color)    # 删除键'black'并返回对应的值\n",
    "print(color.popitem())\n",
    "color.update({'yellow':4})           # 将键值对添加到字典中，此函数也可以将另一个字典加入到本字典中\n",
    "print(color)\n",
    "color.clear()\n",
    "print(color)\n",
    "# 字典遍历\n",
    "'''\n",
    "for k in color:\n",
    "    print(color[k])\n",
    "for k,v in color:\n",
    "    print(k,v)\n",
    "'''"
   ]
  },
  {
   "cell_type": "markdown",
   "metadata": {},
   "source": [
    "### 集合(set)\n",
    "    一系列不重复的元素，类似于字典，但只包含键。最常见的用途可能是删除重复元素"
   ]
  },
  {
   "cell_type": "code",
   "execution_count": 3,
   "metadata": {},
   "outputs": [
    {
     "name": "stdout",
     "output_type": "stream",
     "text": [
      "{1, 2, 3, 5, 6, 8}\n",
      "{1, 2, 3, 4, 5, 6}\n",
      "{4, 5, 6, 7, 8, 9}\n",
      "True\n",
      "{1, 2, 3, 4, 5, 6, 7, 8, 9}\n",
      "{1, 2, 3, 4, 5, 6, 7, 8, 9}\n",
      "{4, 5, 6}\n",
      "{4, 5, 6}\n",
      "{1, 2, 3}\n",
      "{1, 2, 3}\n",
      "{1, 2, 3, 7, 8, 9}\n",
      "{1, 2, 3, 7, 8, 9}\n",
      "{1, 2, 3, 4, 5, 6, 70, 'x', 60}\n",
      "{1, 2, 3, 4, 5, 6, 'x', 60}\n"
     ]
    }
   ],
   "source": [
    "lst = [1,2,3,2,6,5,1,8]\n",
    "s = set(lst)\n",
    "print(s)\n",
    "# 集合运算\n",
    "s_a = {1, 2, 2, 3, 4, 5, 6}\n",
    "s_b = set([4, 5, 6, 7, 8, 9])\n",
    "print(s_a)\n",
    "print(s_b)\n",
    "# 判断元素是否存在\n",
    "print(5 in s_a)\n",
    "# 并集\n",
    "print(s_a | s_b)\n",
    "print(s_a.union(s_b))\n",
    "# 交集\n",
    "print(s_a & s_b)\n",
    "print(s_a.intersection(s_b))\n",
    "# 差集 A - (A & B)\n",
    "print(s_a - s_b)\n",
    "print(s_a.difference(s_b))\n",
    "# 对称差 (A | B) - (A & B)\n",
    "print(s_a ^ s_b)\n",
    "print(s_a.symmetric_difference(s_b))\n",
    "# 修改元素\n",
    "s_a.add('x')\n",
    "s_a.update([4, 5, 60, 70])\n",
    "print(s_a)\n",
    "s_a.remove(70)\n",
    "print(s_a)\n",
    "\n",
    "# 集合也支持列表解析式生成\n",
    "s = {x for x in range(10) if x % 2 == 0}\n",
    "print(s)\n",
    "d = {x: x % 2 == 0 for x in range(10)}\n",
    "print(d)"
   ]
  },
  {
   "cell_type": "markdown",
   "metadata": {
    "collapsed": true
   },
   "source": [
    "### 生成器\n",
    "    生成器不会把结果保存在一个系列中，而是保存生成器的状态，在每次进行迭代时返回一个值，直到遇到StopIteration异常结束\n",
    "    生成器中的变量在使用时才计算，所以节省内存，某种程度上代码速度更快；\n",
    "    遍历：next或者for循环；"
   ]
  },
  {
   "cell_type": "code",
   "execution_count": 1,
   "metadata": {},
   "outputs": [
    {
     "name": "stdout",
     "output_type": "stream",
     "text": [
      "0\n",
      "1\n",
      "4\n",
      "9\n",
      "16\n",
      "<class 'generator'>\n",
      "0\n",
      "1\n",
      "4\n",
      "9\n",
      "16\n",
      "<class 'generator'>\n",
      "1\n",
      "1\n",
      "2\n",
      "3\n",
      "5\n",
      "1\n",
      "1\n",
      "2\n",
      "3\n",
      "5\n"
     ]
    },
    {
     "name": "stderr",
     "output_type": "stream",
     "text": [
      "Traceback (most recent call last):\n",
      "  File \"<ipython-input-1-b07a52a7cf19>\", line 30, in <module>\n",
      "    print(next(f))\n",
      "StopIteration: done\n"
     ]
    }
   ],
   "source": [
    "# 平方表\n",
    "square_table = []\n",
    "for i in range(5000):\n",
    "    square_table.append(i * i)\n",
    "for i in range(5):\n",
    "    print(square_table[i])\n",
    "    \n",
    "square_generator = (x * x for x in range(50000))\n",
    "print(type(square_generator))\n",
    "for i in range(5):\n",
    "    print(next(square_generator))\n",
    "\n",
    "def fib(limit):\n",
    "    n, a, b = 0, 0, 1\n",
    "    while n < limit:\n",
    "        yield b\n",
    "        a, b = b, a + b\n",
    "        n += 1\n",
    "    return 'done'\n",
    "\n",
    "import traceback\n",
    "f = fib(5)\n",
    "print(type(f))\n",
    "print(next(f))\n",
    "print(next(f))\n",
    "print(next(f))\n",
    "print(next(f))\n",
    "print(next(f))\n",
    "try:\n",
    "    print(next(f))\n",
    "except StopIteration:\n",
    "    traceback.print_exc()\n",
    "for i in fib(5):\n",
    "    print(i)"
   ]
  },
  {
   "cell_type": "markdown",
   "metadata": {},
   "source": [
    "### 迭代器\n",
    "    可以直接作用于for循环的对象统称为可迭代对象：Iterable\n",
    "    可以被next()函数调用并不断返回下一个值的对象称为迭代器：Iterator（表示一个惰性计算的序列）；\n",
    "    集合数据类型如list、dict、str等是Iterable但不是Iterator，不过可以通过iter()函数获得一个Iterator对象"
   ]
  },
  {
   "cell_type": "code",
   "execution_count": null,
   "metadata": {
    "collapsed": true
   },
   "outputs": [],
   "source": []
  }
 ],
 "metadata": {
  "kernelspec": {
   "display_name": "Python 3",
   "language": "python",
   "name": "python3"
  },
  "language_info": {
   "codemirror_mode": {
    "name": "ipython",
    "version": 3
   },
   "file_extension": ".py",
   "mimetype": "text/x-python",
   "name": "python",
   "nbconvert_exporter": "python",
   "pygments_lexer": "ipython3",
   "version": "3.6.1"
  }
 },
 "nbformat": 4,
 "nbformat_minor": 2
}
