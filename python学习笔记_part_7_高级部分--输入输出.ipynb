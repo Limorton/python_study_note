{
 "cells": [
  {
   "cell_type": "markdown",
   "metadata": {},
   "source": [
    "## 高级部分：输入输出——用户交互、读写文件、访问网页"
   ]
  },
  {
   "cell_type": "markdown",
   "metadata": {},
   "source": [
    "### 字符串处理"
   ]
  },
  {
   "cell_type": "code",
   "execution_count": 3,
   "metadata": {},
   "outputs": [
    {
     "name": "stdout",
     "output_type": "stream",
     "text": [
      "0.012345679012345678\n",
      "x in float: 0.01\n",
      "x= 0.01 and y= 1\n",
      "scientific format: x = 1.234568e-02 or x = 1.234568E-02\n"
     ]
    }
   ],
   "source": [
    "# 设置字符串格式\n",
    "x = 1/81\n",
    "y = 1\n",
    "print(x)\n",
    "print('x in float: %.2f' % x)\n",
    "print('x= %.2f and y= %s' %(x,y))\n",
    "print('scientific format: x = %e or x = %E' %(x,x))\n",
    "# d 整数； o 八进制； x 小写十六进制； X 大写十六进制； e 小写科学记数法表示的浮点数；%  %字符；"
   ]
  },
  {
   "cell_type": "code",
   "execution_count": 4,
   "metadata": {},
   "outputs": [
    {
     "name": "stdout",
     "output_type": "stream",
     "text": [
      "My dog has fleas\n",
      "My dog has fleas\n",
      "1/81 = 0.012\n",
      "1/81 = 0.0123\n"
     ]
    }
   ],
   "source": [
    "#格式字符串 ''.format(value, format_spec)\n",
    "print('My {pet} has {prob}'.format(pet = 'dog', prob = 'fleas'))\n",
    "print('My {0} has {1}'.format('dog','fleas'))\n",
    "print('1/81 = {x:.3f}'.format(x = 1/81))\n",
    "print('1/81 = {x:.{d}f}'.format(x = 1/81, d=4))\n",
    "# 如果要在格式字符串中表示字符'{'或'}'，可使用'{{'和'}}'"
   ]
  },
  {
   "cell_type": "markdown",
   "metadata": {},
   "source": [
    "### 文件夹、文件和路径路径获取"
   ]
  },
  {
   "cell_type": "code",
   "execution_count": 16,
   "metadata": {},
   "outputs": [
    {
     "name": "stdout",
     "output_type": "stream",
     "text": [
      "C:\\Users\\Administrator\\my_ipython_code\n",
      "['python学习笔记_part_1.ipynb', 'python学习笔记_part_2.ipynb', 'python学习笔记_part_3.ipynb', 'python学习笔记_part_4.ipynb', 'python学习笔记_part_5.ipynb', 'python学习笔记_part_6.ipynb', 'python学习笔记_part_7.ipynb']\n",
      "['.ipynb_checkpoints']\n",
      "70602\n"
     ]
    }
   ],
   "source": [
    "## 文件夹和路径\n",
    "# 文件路径中的'\\'要变成'\\\\'，如：'c:\\\\home\\\\tjd\\\\python'\n",
    "# 若要避免使用两个反斜杠，可使用原始字符串：r'c:\\home\\tjd\\python'\n",
    "import os\n",
    "#返回当前工作目录中的文件和文件夹\n",
    "def list_cwd():\n",
    "    return os.listdir(os.getcwd())\n",
    "#返回当前工作目录中的文件\n",
    "def files_cwd():\n",
    "    return [p for p in list_cwd() if os.path.isfile(p)]\n",
    "#返回当前工作目录中的文件夹\n",
    "def folders_cwd():\n",
    "    return [p for p in list_cwd() if os.path.isdir(p)]\n",
    "#返回当前目录中所有文件的大小总和\n",
    "def size_in_bytes(fname):\n",
    "    return os.stat(fname).st_size\n",
    "def cwd_size_in_bytes():\n",
    "    total = 0\n",
    "    for name in files_cwd():\n",
    "        total += size_in_bytes(name)\n",
    "    return total\n",
    "print(os.getcwd())  # get current work directory\n",
    "print(files_cwd())\n",
    "print(folders_cwd())\n",
    "print(cwd_size_in_bytes())"
   ]
  },
  {
   "cell_type": "markdown",
   "metadata": {},
   "source": [
    "### 文本文件的读写\n",
    "    分三步： 打开文件->处理文件->关闭文件\n",
    "    如果文件f.txt已经存在,在调用'open('f.txt','w')'将删除它！如果不想删覆盖f.txt，应先检查它是否存在，或以附加模式--'a'打开"
   ]
  },
  {
   "cell_type": "code",
   "execution_count": null,
   "metadata": {
    "collapsed": true
   },
   "outputs": [],
   "source": [
    "# 文件读写的三种方法\n",
    "\n",
    "## 一 直接读写\n",
    "file1 = open(\"test.txt\") \n",
    "file2 = open(\"output.txt\",\"w\") \n",
    "while True: \n",
    "    # 逐行读取文本文件\n",
    "    line = file1.readline() \n",
    "    #这里可以进行逻辑处理 \n",
    "    file2.write('\"'+line[:-2]+'\"'+\",\") # 写入一些字符\n",
    "    if not line: \n",
    "        break \n",
    "#记住文件处理完，关闭是个好习惯 \n",
    "file1.close() \n",
    "file2.close() \n",
    "\n",
    "## 二 文件迭代器，用for循环的方法\n",
    "file2 = open(\"output.txt\",\"w\") \n",
    "for line in open(\"test.txt\"): # 逐行读取\n",
    "      #这里可以进行逻辑处理 \n",
    "    file2.write('\"'+line[:-2]+'\"'+\",\") \n",
    "\n",
    "## 三 文件上下文管理器\n",
    "#用with..open自带关闭文本的功能\n",
    "with open('somefile.txt', 'r') as f: \n",
    "    data = f.read() \n",
    "# loop整个文档\n",
    "with open('somefile.txt', 'r') as f: \n",
    "    for line in f: \n",
    "        # 处理每一行\n",
    "# 写入文本 \n",
    "with open('somefile.txt', 'w') as f: \n",
    "    f.write(text1) \n",
    "    f.write(text2) \n",
    "    ... \n",
    "# 把要打印的line写入文件中 \n",
    "with open('somefile.txt', 'w') as f: \n",
    "    print(line1, file=f) \n",
    "    print(line2, file=f)\n",
    "    \n",
    "## 将字符串插入到文件开头：最简单的方式可能如下，将文件读取到一个字符串中，将新文本插入到改字符串中，再将字符串写入原文件中\n",
    "def insert_title(title,fname):\n",
    "    f = open(fname,'r+') #可读取和写入文件\n",
    "    temp = f.read() #调用f.read()后，文件指针指向文件末尾\n",
    "    temp = title + '\\n\\n' + temp\n",
    "    f.seek(0) #让文件指针指向文件开头\n",
    "    f.write(temp)\n",
    "    f.close()"
   ]
  },
  {
   "cell_type": "markdown",
   "metadata": {},
   "source": [
    "读文件有3种方法：\n",
    "f.read()将文本文件所有行读到一个字符串中。\n",
    "f.readline()是一行一行的读\n",
    "f.readlines()是将文本文件中所有行读到一个list中，文本文件每一行是list的一个元素。 优点：readline()可以在读行过程中跳过特定行。"
   ]
  },
  {
   "cell_type": "markdown",
   "metadata": {},
   "source": [
    "### 二进制文件的读写\n",
    "    Python默认读取的都是文本文件。要是想要读取二进制文件，需要把刚刚的'r'改成'rb'.\n",
    "    'r'    为读取而打开文件（默认模式）\n",
    "    'w'    为写入而打开文件\n",
    "    'a'    为在文件末尾附加而打开文件\n",
    "    'b'    二进制模式（读或写）\n",
    "    't'    文本模式（默认模式）\n",
    "    '+'    为读写而打开文件"
   ]
  },
  {
   "cell_type": "code",
   "execution_count": null,
   "metadata": {
    "collapsed": true
   },
   "outputs": [],
   "source": [
    "f = open('EDC.jpg', 'rb')\n",
    "print(f.read())\n",
    "# 输出 '\\xff\\xd8\\xff\\xe1\\x00\\x18Exif\\x00\\x00...' # 十六进制表示的字节\n",
    "\n",
    "# 检查文件是否是gif图像文件\n",
    "def is_gif(fname):\n",
    "    f = open(fname,'br')\n",
    "    first4 = tuple(f.read(4))              # 读取接下来的4个字节\n",
    "    return first4 == (0x47,0x49,0x46,0x38) # 所有GIF图像文件都以这4个字节打头"
   ]
  },
  {
   "cell_type": "markdown",
   "metadata": {},
   "source": [
    "简单说就是，任何非标准的文本文件（对于Py2来说，标准是ASCII，对于Py3来说，标准是unicode），你就需要用二进制读入这个文件，然后再用 .decode('...')的方法来解码这个二进制文件："
   ]
  },
  {
   "cell_type": "code",
   "execution_count": null,
   "metadata": {
    "collapsed": true
   },
   "outputs": [],
   "source": [
    "f = open('DegangGuo.txt', 'rb')\n",
    "# 读入郭德纲老师的作文, 但是郭老师用的是参合着错别字的繁体编码，假设叫个\"DeyunCode\"\n",
    "# 那么你读入以后，就需要解码它\n",
    "u = f.read().decode('DeyunCode')"
   ]
  },
  {
   "cell_type": "markdown",
   "metadata": {},
   "source": [
    "### 序列化与反序列化\n",
    "    什么是序列化？\n",
    "    程序运行的过程中，所有变量都是在内存中操作的，当程序一旦执行完毕，结束退出后，变量占有的内存就被操作系统回收了。 因此我们需要将某些数据持久化存储到磁盘中，下次运行的时候从磁盘中读取相关数据（比如常见的游戏和应用中用户的存档信息）。\n",
    "    我们将变量从内存中变成可以存储或传输的过程称之为序列化，在Python中叫做pickling，在其它语言中也称之为 serialization、marshaling、flattening等等，说的都是一个意思。 反之，则为反序列化，称之为unpickling，把变量内容从序列化的对象重新读取到内存中。"
   ]
  },
  {
   "cell_type": "code",
   "execution_count": 21,
   "metadata": {},
   "outputs": [
    {
     "name": "stdout",
     "output_type": "stream",
     "text": [
      "b'\\x80\\x03}q\\x00(X\\x04\\x00\\x00\\x00nameq\\x01X\\x06\\x00\\x00\\x00\\xe6\\x80\\x9d\\xe8\\x81\\xaaq\\x02X\\x03\\x00\\x00\\x00ageq\\x03K\\x1dX\\x05\\x00\\x00\\x00scoreq\\x04KPu.'\n"
     ]
    }
   ],
   "source": [
    "# 序列化\n",
    "import pickle\n",
    "\n",
    "# 此处定义一个dict字典对象\n",
    "d = dict(name='思聪', age=29, score=80)\n",
    "str = pickle.dumps(d) # 调用pickle的dumps函数进行序列化处理\n",
    "print(str)\n",
    "# 你可以看看它长什么样子\n",
    "\n",
    "# 定义和创建一个file文件对象，设定模式为wb\n",
    "f = open('dump.txt', 'wb')\n",
    "# 将内容序列化写入到file文件中\n",
    "pickle.dump(d, f)\n",
    "f.close() # 最后关闭掉文件资源"
   ]
  },
  {
   "cell_type": "code",
   "execution_count": 22,
   "metadata": {},
   "outputs": [
    {
     "name": "stdout",
     "output_type": "stream",
     "text": [
      "{'name': '思聪', 'age': 29, 'score': 80}\n",
      "name is 思聪\n"
     ]
    }
   ],
   "source": [
    "# 反序列化：就是把刚刚的搞成的“序列化”的码，转成python看得懂的object\n",
    "import pickle\n",
    "\n",
    "# 从之前序列化的dump.txt文件里边读取内容\n",
    "f = open('dump.txt', 'rb') # 设定文件选项模式为rb\n",
    "d = pickle.load(f) # 调用load做反序列处理过程\n",
    "f.close() # 关闭文件资源\n",
    "print(d)\n",
    "print('name is %s' % d['name'])"
   ]
  },
  {
   "cell_type": "code",
   "execution_count": 23,
   "metadata": {
    "collapsed": true
   },
   "outputs": [],
   "source": [
    "# 稍微注意一下，python2和python3里面的pickle不一样。\n",
    "# 为了保证2，3的和谐，你可以用这个方法来保证你import正确：\n",
    "try:\n",
    "    import cPickle as pickle\n",
    "except ImportError:\n",
    "    import pickle"
   ]
  },
  {
   "cell_type": "markdown",
   "metadata": {},
   "source": [
    "#### 用JSON实现序列和反序列化\n",
    "    如果你有一个比较结构化的数据想要序列化，并且想要别的地方别的语言也能看得懂。那么你可以用JSON来做。Python的数据结构跟Json有非常完美的兼容"
   ]
  },
  {
   "cell_type": "code",
   "execution_count": 25,
   "metadata": {},
   "outputs": [
    {
     "name": "stdout",
     "output_type": "stream",
     "text": [
      "{\"name\": \"\\u5c0f\\u738b\", \"age\": 20, \"score\": 80}\n",
      "{'name': '小王', 'age': 20, 'score': 80}\n"
     ]
    }
   ],
   "source": [
    "import json\n",
    " \n",
    "# 定义dict字典对象\n",
    "d1 = dict(name='小王', age=20, score=80)\n",
    "str = json.dumps(d1) # 调用json的dumps函数进行json序列化处理\n",
    "print(str)\n",
    " \n",
    "# 调用json的loads函数进行反序列化处理\n",
    "d2 = json.loads(str)\n",
    "print(d2)"
   ]
  },
  {
   "cell_type": "markdown",
   "metadata": {},
   "source": [
    "### 匿名函数\n",
    "    python使用 lambda 来创建匿名函数\n",
    "    语法:\n",
    "        Lambda函数的语法只包含一个语句，如下：\n",
    "        lambda [arg1,arg2,.....argn]:expression"
   ]
  },
  {
   "cell_type": "code",
   "execution_count": 26,
   "metadata": {},
   "outputs": [
    {
     "name": "stdout",
     "output_type": "stream",
     "text": [
      "30\n"
     ]
    }
   ],
   "source": [
    "# 使用匿名函数求和\n",
    "sum = lambda arg1, arg2: arg1 + arg2\n",
    "\n",
    "print(sum(10, 20))"
   ]
  },
  {
   "cell_type": "markdown",
   "metadata": {},
   "source": [
    "#### reduce\n",
    "Python中的reduce内建函数是一个二元操作函数，他用来将一个数据集合(列表，元组等)中的所有数据进行如下操作：传给reduce中的函数func() (必须是一个二元操作函数)先对集合中的第1，2个数据进行操作，得到的结果再与第三个数据用func()函数运算，最后得到一个结果。\n",
    "顾名思义，reduce就是要把一个list给缩成一个值。所以你必须用二元操作函数。"
   ]
  },
  {
   "cell_type": "code",
   "execution_count": 27,
   "metadata": {},
   "outputs": [
    {
     "name": "stdout",
     "output_type": "stream",
     "text": [
      "15\n",
      "25\n"
     ]
    }
   ],
   "source": [
    "from functools import reduce\n",
    "\n",
    "l = [1,2,3,4,5]\n",
    "print(reduce(lambda x,y: x+y, l))\n",
    "# 这里代表着，把list中的值，一个个放进lamda的x,y中\n",
    "\n",
    "# 如果你给出一个初始值，可以放在list后面\n",
    "print(reduce(lambda x,y: x+y, l, 10))"
   ]
  },
  {
   "cell_type": "markdown",
   "metadata": {},
   "source": [
    "#### map\n",
    "map函数应用于每一个可迭代的项，返回的是一个结果list。如果有其他的可迭代参数传进来，map函数则会把每一个参数都以相应的处理函数进行迭代处理。map()函数接收两个参数，一个是函数，一个是序列，map将传入的函数依次作用到序列的每个元素，并把结果作为新的list返回。\n",
    "格式：map(func, seq1[, seq2...] )\n",
    "Python函数式编程中的map()函数是将func作用于seq中的每一个元素，并用一个列表给出返回值。\n",
    "map可以使用任何的lambda函数操作，本质上是把原有的list根据lambda法则变成另外一个list"
   ]
  },
  {
   "cell_type": "code",
   "execution_count": 28,
   "metadata": {},
   "outputs": [
    {
     "name": "stdout",
     "output_type": "stream",
     "text": [
      "[2, 3, 4]\n",
      "[5, 7, 9]\n"
     ]
    }
   ],
   "source": [
    "l = [1,2,3]\n",
    "new_list = list(map(lambda i: i+1, l))\n",
    "print(new_list)\n",
    "# Py3里，外面需要套个list：\n",
    "# 这是为了让里面的值给显示出来，要不然你会得到这是个map函数\n",
    "# 而不是里面的值。\n",
    "# Py2的童鞋不虚\n",
    "\n",
    "# 我们也可以把两个数组搞成一个单独的数组\n",
    "l2 = [4,5,6]\n",
    "new_list = list(map(lambda x,y: x+y, l, l2))\n",
    "print(new_list)"
   ]
  },
  {
   "cell_type": "markdown",
   "metadata": {},
   "source": [
    "#### filter\n",
    "filter()函数可以对序列做过滤处理，就是说可以使用一个自定的函数过滤一个序列，把序列的每一项传到自定义的过滤函数里处理，并返回结果做过滤。最终一次性返回过滤后的结果。 和map()类似，filter()也接收一个函数和一个序列。和map()不同的时，filter()把传入的函数依次作用于每个元素，然后根据返回值是True还是False决定保留还是丢弃该元素。\n",
    "语法\n",
    "filter(func, seq)"
   ]
  },
  {
   "cell_type": "code",
   "execution_count": 29,
   "metadata": {},
   "outputs": [
    {
     "name": "stdout",
     "output_type": "stream",
     "text": [
      "[20, 24]\n"
     ]
    }
   ],
   "source": [
    "l = [100, 20, 24, 50, 110]\n",
    "new = list(filter(lambda x: x<50, l))\n",
    "# 同理，py3得套个list来转化成list函数，便于打印出来\n",
    "print(new)"
   ]
  },
  {
   "cell_type": "markdown",
   "metadata": {},
   "source": [
    "### 读取网页"
   ]
  },
  {
   "cell_type": "code",
   "execution_count": 41,
   "metadata": {
    "collapsed": true
   },
   "outputs": [
    {
     "name": "stdout",
     "output_type": "stream",
     "text": [
      "b'<!DOCTYPE html>\\n<!--STATUS OK-->\\n<html>\\n\\t<head>\\n\\t\\t<meta http-equiv=\"X-UA-Compatible\" content=\"IE=Edge\" />\\n\\t\\t<meta http-equiv=\"content-type\" content=\"text/html;charset=gbk\" />\\n\\t\\t<meta property=\"wb:webmaster\" content=\"3aababe5ed22e23c\" />\\n\\t\\t<meta name=\"referrer\" content=\"always\" />\\n\\t\\t<title>\\xd6\\xaa\\xb5\\xc0\\xc8\\xd5\\xb1\\xa8_\\xb0\\xd9\\xb6\\xc8\\xd6\\xaa\\xb5\\xc0</title>\\n\\t\\t<link rel=\"shortcut icon\" href=\"/favicon.ico\" type=\"image/x-icon\" />\\n\\t\\t<link rel=\"icon\" sizes=\"any\" mask href=\"//www.baidu.com/img/baidu.svg\" />\\n      \\t\\t\\t\\r\\n    <script>\\r\\n    window.alogObjectConfig = {\\r\\n        product: \\'102\\',\\r\\n        page: \\'\\', \\r\\n        monkey_page: \\'\\',\\r\\n        speed_page: \\'\\',\\r\\n        speed: {\\r\\n            sample: \\'\\'\\r\\n        },\\r\\n        monkey: {\\r\\n            sample: \\'\\'\\r\\n        },\\r\\n        exception: { \\r\\n            sample: \\'\\'\\r\\n        },\\r\\n        feature: {\\r\\n            sample: \\'\\'\\r\\n        },\\r\\n        cus: {\\r\\n            sample: \\'\\',\\r\\n            custom_metrics: []\\r\\n        },\\r\\n        csp: {\\r\\n            sample: \\'\\',\\r\\n            \\'default-src\\': [\\r\\n                {match: \\'*bae.baidu.com\\', target: \\'Accept,Warn\\'},\\r\\n                {match: \\'*.baidu.com,*.bdstatic.com,*.bdimg.com,localhost,*.hao123.com,*.hao123img.com\\', target: \\'Accept\\'},\\r\\n                {match: /^(127|172|192|10)(\\\\.\\\\d+){3}$/, target: \\'Accept\\'},\\r\\n                {match: \\'*\\', target: \\'Accept,Warn\\'}\\r\\n            ]\\r\\n        }\\r\\n    };\\r\\n \\r\\n    void function(a,b,c,d,e,f,g){a.alogObjectName=e,a[e]=a[e]||function(){(a[e].q=a[e].q||[]).push(arguments)},a[e].l=a[e].l||+new Date,d=\"https:\"===a.location.protocol?\"https://fex.bdstatic.com\"+d:\"http://fex.bdstatic.com\"+d;var h=!0;if(a.alogObjectConfig&&a.alogObjectConfig.sample){var i=Math.random();a.alogObjectConfig.rand=i,i>a.alogObjectConfig.sample&&(h=!1)}h&&(f=b.createElement(c),f.async=!0,f.src=d+\"?v=\"+~(new Date/864e5)+~(new Date/864e5),g=b.getElementsByTagName(c)[0],g.parentNode.insertBefore(f,g))}(window,document,\"script\",\"/hunter/alog/alog.min.js\",\"alog\"),void function(){function a(){}window.PDC={mark:function(a,b){alog(\"speed.set\",a,b||+new Date),alog.fire&&alog.fire(\"mark\")},init:function(a){alog(\"speed.set\",\"options\",a)},view_start:a,tti:a,page_ready:a}}();\\r\\n    void function(n){var o=!1;n.onerror=function(n,e,t,c){var i=!0;return!e&&/^script error/i.test(n)&&(o?i=!1:o=!0),i&&alog(\"exception.send\",\"exception\",{msg:n,js:e,ln:t,col:c}),!1},alog(\"exception.on\",\"catch\",function(n){alog(\"exception.send\",\"exception\",{msg:n.msg,js:n.path,ln:n.ln,method:n.method,flag:\"catch\"})})}(window);\\r\\n</script>\\r\\n\\n\\t\\t\\n<script>\\n\\t!function(document, window){\\n\\t\\tvar log = {\\n\\t\\t\\tlist: [],\\n\\t\\t\\thost: \\'https://\\' + location.host + \\'/api/httpscheck\\',\\n\\t\\t\\tlog: function(param) {\\n\\t\\t\\t\\tvar a = [];\\n\\t\\t    \\tfor(var k in param) {\\n\\t\\t    \\t\\ta.push(k + \\'=\\' + param[k]);\\n\\t\\t    \\t}\\n\\t\\t    \\tvar msg = a.join(\\'&\\');\\n\\t\\t    \\tif(~this.list.indexOf(msg)){\\n\\t\\t    \\t\\treturn;\\n\\t\\t    \\t}\\n\\t\\t    \\tthis.list.push(msg);\\n\\t\\t  \\t\\tvar img = new Image();\\n\\t\\t    \\tvar key = \\'_ik_log_\\' + (Math.random()*2147483648 ^ 0).toString(36);\\n\\t\\t    \\twindow[key] = img;\\n\\t\\t    \\t\\timg.onload = img.onerror = img.onabort = function() {\\n\\t\\t        \\t\\timg.onload = img.onerror = img.onabort = null;\\n\\t\\t        \\t\\twindow[key] = null;\\n\\t\\t\\t    \\t\\timg = null;\\n\\t\\t    \\t};\\n\\t\\t  \\t\\timg.src = this.host + \\'?\\' + msg;\\n\\t\\t\\t}\\n\\t\\t};\\n\\n\\t\\tfunction HTTPSWarningLog(){\\n\\t\\t\\tthis.selector = [\\n\\t\\t\\t\\t\\'link\\',\\n\\t\\t\\t\\t\\'script\\',\\n\\t\\t\\t\\t\\'img\\',\\n\\t\\t\\t\\t\\'embed\\',\\n\\t\\t\\t\\t\\'iframe\\'\\n\\t\\t\\t];\\n\\t\\t\\tthis.warningCounter = 0;\\n\\t\\t\\tthis.init();\\n\\t\\t};\\n\\n\\t\\tHTTPSWarningLog.prototype = {\\n\\t\\t\\tinit: function(){\\n\\t\\t\\t\\tthis.fetch();\\n\\t\\t\\t},\\n\\n\\t\\t\\tfetch: function(){\\n\\t\\t\\t\\tfor(var tags = this.selector, i =0, len = tags.length; i < len;i++) {\\n\\t\\t\\t\\t\\tthis.getTag(tags[i]);\\n\\t\\t\\t\\t}\\n\\t\\t\\t},\\n\\n\\t\\t\\tgetTag: function(tag) {\\n\\t\\t\\t\\tvar domList = document.getElementsByTagName(tag);\\n\\t\\t\\t\\tif(!domList.length) {\\n\\t\\t\\t\\t\\treturn;\\n\\t\\t\\t\\t}\\n\\t\\t\\t\\tfor(var i = 0,len = domList.length;i<len;i++) {\\n\\t\\t\\t\\t\\tvar el = domList[i];\\n\\t\\t\\t\\t\\tvar url = el.getAttribute(el.tagName===\\'LINK\\' ? \\'href\\' : \\'src\\');\\n                    if(el.getAttribute(\\'rel\\') === \\'canonical\\') {\\n                        continue;\\n                    }\\n\\t\\t\\t\\t\\tif(url && \\'https:\\' === location.protocol && !url.indexOf(\\'http:\\')){\\n\\t\\t\\t\\t\\t\\tthis.sendLog(el, el.tagName.toLowerCase(),url);\\n\\t\\t\\t\\t\\t\\tthis.warningCounter++;\\n\\t\\t\\t\\t\\t}\\n\\t\\t\\t\\t}\\n\\t\\t\\t},\\n\\t\\t\\t\\n\\t\\t\\tsendLog: function(el, type, url){\\n\\t\\t\\t\\tlog.log({\\n\\t\\t\\t\\t\\turl: location.href,\\n\\t\\t\\t\\t\\twtype: type,\\n\\t\\t\\t\\t\\twurl: url\\n\\t\\t\\t\\t});\\n\\t\\t\\t}\\n\\t\\t};\\n\\n\\t\\tfunction domReady(fn){\\n\\t\\t    if(document.addEventListener) {\\n\\t\\t        document.addEventListener(\\'DOMContentLoaded\\', function() {\\n\\t\\t            document.removeEventListener(\\'DOMContentLoaded\\',arguments.callee, false);\\n\\t\\t            fn();\\n\\t\\t        }, false);\\n\\t\\t    }else if(document.attachEvent) {\\n\\t\\t        document.attachEvent(\\'onreadystatechange\\', function() {\\n\\t\\t            if(document.readyState == \\'complete\\') {\\n\\t\\t                document.detachEvent(\\'onreadystatechange\\', arguments.callee);\\n\\t\\t                fn();\\n\\t\\t            }\\n\\t\\t        });\\n\\t\\t    }\\n\\t\\t};\\n\\n\\t\\tdomReady(function(){\\n\\t\\t\\tnew HTTPSWarningLog();\\n\\t\\t\\tfor(var i=1; i<6; i++) {\\n\\t\\t\\t\\t!function(i){\\n\\t\\t\\t\\t\\tsetTimeout(function(){\\n\\t\\t\\t\\t\\t\\tnew HTTPSWarningLog();\\n\\t\\t\\t\\t\\t}, i*i*i*1000);\\n\\t\\t\\t\\t}(i);\\n\\t\\t\\t}\\n\\t\\t});\\n\\t}(document, window);\\n</script>\\n\\t\\t        \\n<meta name=\"keywords\" content=\"\\xd6\\xaa\\xb5\\xc0\\xc8\\xd5\\xb1\\xa8 \\xd6\\xaa\\xca\\xb6 \\xce\\xca\\xb4\\xf0 \\xc9\\xfa\\xbb\\xee \\xbf\\xc6\\xd1\\xa7 \\xbf\\xc6\\xbc\\xbc \\xb7\\xba\\xc9\\xfa\\xbb\\xee \\xb7\\xba\\xbf\\xc6\\xbc\\xbc \\xbf\\xc6\\xc6\\xd5 \\xd0\\xc4\\xc0\\xed \\xbd\\xa1\\xbf\\xb5 \\xbc\\xf5\\xb7\\xca \\xbb\\xa5\\xc1\\xaa\\xcd\\xf8 \\xbb\\xb7\\xbe\\xb3 \\xcc\\xec\\xce\\xc4 \\xd7\\xa8\\xbc\\xd2 \\xd7\\xa8\\xd2\\xb5 \\xc6\\xbd\\xcc\\xa8\" />\\n<meta name=\"description\" content=\\'\\xd6\\xaa\\xb5\\xc0\\xc8\\xd5\\xb1\\xa8\\xca\\xc7\\xb0\\xd9\\xb6\\xc8\\xd6\\xaa\\xb5\\xc0\\xd6\\xd8\\xb0\\xf5\\xcd\\xc6\\xb3\\xf6\\xb5\\xc4\\xc6\\xb7\\xc5\\xc6\\xc4\\xda\\xc8\\xdd\\xc0\\xb8\\xc4\\xbf\\xa3\\xac\\xb7\\xba\\xc9\\xfa\\xbb\\xee\\xc1\\xec\\xd3\\xf2\\xb5\\xc4\\xd7\\xa8\\xd2\\xb5\\xd6\\xaa\\xca\\xb6\\xce\\xca\\xb4\\xf0\\xc6\\xbd\\xcc\\xa8\\xa1\\xa3\\xbb\\xf9\\xd3\\xda\\xb0\\xd9\\xb6\\xc8\\xd6\\xaa\\xb5\\xc0\\xc7\\xbf\\xb4\\xf3\\xb5\\xc4\\xce\\xca\\xb4\\xf0\\xc6\\xbd\\xcc\\xa8\\xbb\\xf9\\xb4\\xa1\\xba\\xcd\\xc1\\xbc\\xba\\xc3\\xb5\\xc4\\xd3\\xc3\\xbb\\xa7\\xbf\\xda\\xb1\\xae\\xa3\\xac\\xd6\\xaa\\xb5\\xc0\\xc8\\xd5\\xb1\\xa8\\xd5\\xe7\\xd1\\xa1\\xb9\\xe3\\xb4\\xf3\\xcd\\xf8\\xd3\\xd1\\xc9\\xee\\xb8\\xd0\\xd0\\xcb\\xc8\\xa4\\xb5\\xc4\\xb7\\xba\\xc9\\xfa\\xbb\\xee\\xc1\\xec\\xd3\\xf2\\xce\\xca\\xcc\\xe2\\xa3\\xac\\xc9\\xe6\\xbc\\xb0\\xc9\\xfa\\xbb\\xee\\xa1\\xa2\\xbf\\xc6\\xbc\\xbc\\xa1\\xa2\\xbb\\xa5\\xc1\\xaa\\xcd\\xf8\\xa1\\xa2\\xbd\\xa1\\xbf\\xb5\\xa1\\xa2\\xbb\\xb7\\xbe\\xb3\\xa1\\xa2\\xcc\\xec\\xce\\xc4\\xb5\\xc8\\xbc\\xb8\\xca\\xae\\xb8\\xf6\\xb7\\xd6\\xc0\\xe0\\xa3\\xac\\xd1\\xfb\\xc7\\xeb\\xd7\\xa8\\xd2\\xb5\\xbb\\xfa\\xb9\\xb9\\xa1\\xa2\\xd7\\xa8\\xbc\\xd2\\xd1\\xa7\\xd5\\xdf\\xa3\\xac\\xcf\\xf2\\xb6\\xc1\\xd5\\xdf\\xcc\\xe1\\xb9\\xa9\\xd7\\xa8\\xd2\\xb5\\xd3\\xc5\\xd6\\xca\\xb5\\xc4\\xbb\\xd8\\xb4\\xf0\\xa1\\xa3\\' />\\n\\n\\t\\t<script type=\"text/javascript\">\\n\\t\\t\\t!function(){var n={},t={};n.context=function(n,e){var i=arguments.length;if(i>1)t[n]=e;else if(1==i){if(\"object\"!=typeof n)return t[n];for(var o in n)n.hasOwnProperty(o)&&(t[o]=n[o])}},\"F\"in window||(window.F=n)}();;\\n\\t\\t\\t\\n            \\n\\t\\t\\t\\t\\t\\t\\t\\t\\t\\t\\t\\t\\t\\t\\t\\t\\t\\t\\t\\t\\t\\t\\t\\t\\t\\t\\t\\t\\t\\t\\t\\t\\t\\t\\t\\t\\t\\t\\t\\t\\t\\t\\t\\t\\t\\t\\n\\t\\t\\tF.context(\\'user\\', {\"isLogin\":\"\",\"isRealName\":\"\",\"stoken\":\"\",\"name\":\"\",\"imId\":\"\",\"id\":\"\",\"wealth\":\"\",\"gradeIndex\":\"\",\"isMavin\":\"\",\"encryptedBDUSS\":\"fdbbt7KgyqiwrWslEq9PLZyCd2gmKKzlHYvOjYo\"});\\n\\t\\t\\tF.context(\\'user\\')[\\'internalAdmin\\'] = null;\\n\\n\\t\\t\\t\\t\\t\\t\\t\\t\\t\\n\\t\\t\\t            \\n                                                F.context(\\'productsDomain\\', {\\n                \\'zuoye\\': \\'http://zuoye.baidu.com\\',\\n                \\'baobao\\': \\'http://baobao.baidu.com\\',\\n                \\'doctor\\': \\'http://muzhi.baidu.com\\'\\n            });\\n            F.context(\\'isQuality\\', false);\\n            F.context(\\'now\\', 1497145292);\\n\\t\\t</script>\\n        <script>F.context(\\'sysTaskAutoInit\\', 1);</script>\\n        <!--[if lte IE 8]>\\n            <script>\\n                (function(){\\n                    var e=\"abbr,article,aside,audio,canvas,datalist,details,dialog,eventsource,figure,footer,header,hgroup,mark,menu,meter,nav,output,progress,section,time,video\".split(\",\"),\\n                    i=e.length;\\n                    while(i--){document.createElement(e[i])}\\n                 })();\\n            </script>\\n        <![endif]-->\\n\\t<link rel=\"stylesheet\" type=\"text/css\" href=\"https://gss0.bdstatic.com/7051cy792sgCpNKfpU_Y_D3/static/common/pkg/common_ad30a18.css\" /><link rel=\"stylesheet\" type=\"text/css\" href=\"https://gss0.bdstatic.com/7051cy792sgCpNKfpU_Y_D3/static/daily/pkg/daily_78d1437.css\" /></head>\\n    \\n    \\r\\n    <script> alog(\\'speed.set\\', \\'ht\\', +new Date); </script>\\r\\n\\n\\n\\t<body class=\"daily-index\">\\n\\t\\t\\n            \\n<div id=\"userbar\" class=\"userbar userbar-new\" data=\"\">\\n            <ul class=\"aside-list\">\\n            <li><a rel=\"nofollow\" alog-alias=\"usrbar-login\" href=\"javascript:;\" id=\"userbar-login\" log=\"type:2026,pname:account,mod:login,action:show,pos:pop\">\\xb5\\xc7\\xc2\\xbc</a></li>\\n            <li><a rel=\"nofollow\" alog-alias=\"usrbar-reg\" id=\"userbar-reg\" href=\"https://passport.baidu.com/v2/?reg&tpl=ik&color=green&u=\" target=\"_blank\">\\xd7\\xa2\\xb2\\xe1</a></li>\\n            <li class=\"shop-entrance\">\\n                <a href=\"/shop\" title=\"\\xd6\\xaa\\xb5\\xc0\\xc9\\xcc\\xb3\\xc7\" log=\"type:2026,pos:top-right,target:shop-entrance\"><i class=\"i-house\"></i></a>\\n                <span class=\"lucky-try\"></span>\\n            </li>\\n            <li><a rel=\"nofollow\" href=\"http://www.baidu.com/\" id=\"userbar-baidu-index\">\\xb0\\xd9\\xb6\\xc8\\xca\\xd7\\xd2\\xb3</a></li>\\n        </ul>\\n    </div>\\n\\n\\n\\n\\t\\t\\n        \\n\\t\\t\\r\\n                \\r\\n    <div class=\"head-wrap\">\\r\\n        <header id=\"header\" class=\"container\">\\r\\n                        \\n<div class=\"daily-search-box-wp fixed\">\\n<div class=\"daily-search-box container-wide\">\\n<div class=\"logo-wp\">\\n<a href=\"/\" class=\"zhidao-logo\"></a><span>|</span><a href=\"/daily/\" class=\"daily-logo\"></a>\\n</div>\\n<form action=\"/daily/search\" name=\"search-form\" method=\"get\" id=\"search-form\" class=\"search-form\">\\n<input class=\"hdi\" id=\"kw\" maxlength=\"256\" tabindex=\"1\" size=\"46\" name=\"word\" value=\"\" autocomplete=\"off\" placeholder=\"\\xca\\xe4\\xc8\\xeb\\xb9\\xd8\\xbc\\xfc\\xd7\\xd6\\xbb\\xf2\\xd7\\xf7\\xd5\\xdf\\xc3\\xfb\"/>\\n<input type=\"hidden\" name=\"ie\" value=\"gbk\">\\n<button alog-action=\"g-search-anwser\" type=\"submit\" id=\"search-btn\" hidefocus=\"true\"  tabindex=\"2\" class=\"btn-global\">\\xcb\\xd1\\xcb\\xf7\\xc8\\xd5\\xb1\\xa8</button>\\n<a href=\"#\" alog-action=\"g-i-ask\" class=\"i-ask-link\" id=\"ask-btn\">\\xce\\xd2\\xd2\\xaa\\xcc\\xe1\\xce\\xca</a>\\n</form>\\n</div>\\n</div>\\n\\r\\n        </header>\\r\\n    </div>\\r\\n    \\r\\n    <div id=\"body\" class=\"container\">\\r\\n        \\n\\n<div class=\"menu-wp\">\\n<div id=\"menu\" class=\"menu\">\\n<div class=\"main-menu\">\\n<a href=\"/daily\" class=\"cur\" data-index=\"1\" data-log=\"type:2060,action:click,area:main-menu-0,page:daily-all\">\\xbe\\xab\\xd1\\xa1</a><a href=\"/daily/square\" class=\" menu-found\" data-index=\"2\" data-log=\"type:2060,action:click,area:main-menu-1,page:daily-all\">\\xb7\\xa2\\xcf\\xd6<i class=\"found-tip\" title=\"\\xd3\\xd0\\xd0\\xc2\\xce\\xc4\\xd5\\xc2\\xa3\\xac\\xb5\\xc8\\xc4\\xe3\\xc0\\xb4\\xb6\\xc1\"></i></a><a href=\"/daily/focusdaily\" class=\"\" data-index=\"3\" data-log=\"type:2060,action:click,area:main-menu-2,page:daily-all\">\\xca\\xd5\\xb2\\xd8/\\xb9\\xd8\\xd7\\xa2</a><a href=\"/daily/authorcenter\" class=\"authorcenter \" data-index=\"4\" data-log=\"type:2060,action:click,area:main-menu-3,page:daily-all\">\\n<i></i>\\n\\xd7\\xf7\\xd5\\xdf\\xd6\\xd0\\xd0\\xc4</a>\\n</div>\\n</div>\\n</div>\\n<div class=\"banner-wp\" style=\"background-color:#007c71;\">\\n<div class=\"banner container-wide\">\\n<a href=\"/daily/view?id=60956&fr=daily-index-banner\" class=\"link\" target=\"_blank\" data-log=\"type:2060,action:click,area:banner,page:daily-index\">\\n<img class=\"banner-bg-img new\" src=\"https://gss0.bdstatic.com/7051cy89RcgCncy6lo7D0j9wexYrbOWh7c50/zhidaoribao/2017/0611/math.jpg\" width=\"1100\" height=\"420\">\\n<div class=\"banner-left-mask\">\\n</div>\\n<div class=\"banner-right-mask\">\\n</div>\\n<p class=\"banner-daily-info\">\\n<span class=\"banner-title\">\\xce\\xaa\\xca\\xb2\\xc3\\xb4\\xca\\xfd\\xd1\\xa7\\xbf\\xc9\\xc4\\xdc\\xca\\xc7\\xd3\\xeb\\xcd\\xe2\\xd0\\xc7\\xce\\xc4\\xc3\\xf7\\xbd\\xbb\\xc1\\xf7\\xb5\\xc4\\xd7\\xee\\xba\\xc3\\xd3\\xef\\xd1\\xd4\\xa3\\xbf</span>\\n<span class=\"banner-author\">\\xc0\\xb4\\xd7\\xd4\\xa3\\xba\\xbb\\xf0\\xd0\\xc7\\xd2\\xbb\\xba\\xc5</span>\\n</p>\\n</a>\\n</div>\\n</div>\\n<style type=\"text/css\">\\r\\n    .banner-left-mask {\\r\\n        background: -moz-linear-gradient(left,  rgba(0,124,113,1) 0%, rgba(0,124,113,0) 100%); /* FF3.6+ */\\r\\n        background: -webkit-gradient(linear, left top, right top, color-stop(0%,rgba(0,124,113,1)), color-stop(100%,rgba(0,124,113,0))); /* Chrome,Safari4+ */\\r\\n        background: -webkit-linear-gradient(left,  rgba(0,124,113,1) 0%,rgba(0,124,113,0) 100%); /* Chrome10+,Safari5.1+ */\\r\\n        background: -o-linear-gradient(left,  rgba(0,124,113,1) 0%,rgba(0,124,113,0) 100%); /* Opera 11.10+ */\\r\\n        background: -ms-linear-gradient(left,  rgba(0,124,113,1) 0%,rgba(0,124,113,0) 100%); /* IE10+ */\\r\\n        background: linear-gradient(to right,  rgba(0,124,113,1) 0%,rgba(0,124,113,0) 100%); /* W3C */\\r\\n        filter: progid:DXImageTransform.Microsoft.gradient( startColorstr=\\'#007c71\\', endColorstr=\\'#00007c71\\',GradientType=1 ); /* IE6-9 */\\r\\n    }\\r\\n    .banner-right-mask {\\r\\n        background: -moz-linear-gradient(left,  rgba(0,124,113,0) 0%, rgba(0,124,113,1) 100%); /* FF3.6+ */\\r\\n        background: -webkit-gradient(linear, left top, right top, color-stop(0%,rgba(0,124,113,0)), color-stop(100%,rgba(0,124,113,1))); /* Chrome,Safari4+ */\\r\\n        background: -webkit-linear-gradient(left,  rgba(0,124,113,0) 0%,rgba(0,124,113,1) 100%); /* Chrome10+,Safari5.1+ */\\r\\n        background: -o-linear-gradient(left,  rgba(0,124,113,0) 0%,rgba(0,124,113,1) 100%); /* Opera 11.10+ */\\r\\n        background: -ms-linear-gradient(left,  rgba(0,124,113,0) 0%,rgba(0,124,113,1) 100%); /* IE10+ */\\r\\n        background: linear-gradient(to right,  rgba(0,124,113,0) 0%,rgba(0,124,113,1) 100%); /* W3C */\\r\\n        filter: progid:DXImageTransform.Microsoft.gradient( startColorstr=\\'#00007c71\\', endColorstr=\\'#007c71\\',GradientType=1 ); /* IE6-9 */\\r\\n    }\\r\\n</style>\\n<div class=\"nav-wp\">\\n<nav class=\"nav container-wide f-yahei\">\\n<div class=\"title\">\\n\\xb5\\xda<div id=\"num-wp\" class=\"num-wp\" data-num=\"1382\">\\n<div class=\"num\"><span class=\"num0\"></span><span class=\"num1\"></span></div>\\n<div class=\"num\"><span class=\"num0\"></span><span class=\"num1\"></span></div>\\n<div class=\"num\"><span class=\"num0\"></span><span class=\"num1\"></span></div>\\n<div class=\"num\"><span class=\"num0\"></span><span class=\"num1\"></span></div>\\n</div>\\xc6\\xda<span class=\"time\">2017\\xc4\\xea06\\xd4\\xc211\\xc8\\xd5</span>\\n</div>\\n<div class=\"tag\">\\xc3\\xbf\\xcc\\xec\\xb6\\xe0\\xd6\\xaa\\xb5\\xc0\\xd2\\xbb\\xb5\\xe3</div>\\n<div class=\"go-wp\">\\n<a href=\"/daily/?period=1381\" class=\"go-prev\" data-log=\"type:2060,action:click,area:prev-period,page:daily-index\">\\xc7\\xb0\\xd2\\xbb\\xc6\\xda</a>\\n<a class=\"go-next disabled\" title=\"\\xb5\\xb1\\xc7\\xb0\\xca\\xc7\\xd7\\xee\\xd0\\xc2\\xd2\\xbb\\xc6\\xda\\xc1\\xcb\">\\xba\\xf3\\xd2\\xbb\\xc6\\xda</a>\\n</div>\\n</nav>\\n</div><div class=\"clearfix container-wide content\">\\n<div class=\"row clearfix\">\\n<div class=\"home-list grid\">\\n<ul class=\"daily-list\" id=\"daily-list\">\\n<li class=\" clearfix\" data-id=\"60352\">\\n<a class=\"img-wp\" href=\"/daily/view?id=60352\" target=\"_blank\" data-log=\"type:2060,action:click,area:daily-list,page:daily-index\">\\n<img src=\"https://gss0.baidu.com/-4o3dSag_xI4khGko9WTAnF6hhy/zhidao/wh%3D800%2C450/sign=3a62453f063387449c902774613ff5cd/1f178a82b9014a903a455dd2a3773912b31bee62.jpg\" alt=\"\\xb8\\xf7\\xca\\xbd\\xb8\\xf7\\xd1\\xf9\\xb5\\xc4\\xd1\\xc0\\xb8\\xe0\\xa3\\xac\\xd0\\xa7\\xb9\\xfb\\xd5\\xe6\\xb5\\xc4\\xbb\\xe1\\xd3\\xd0\\xb2\\xbb\\xcd\\xac\\xc2\\xf0\\xa3\\xbf\" title=\"\\xb8\\xf7\\xca\\xbd\\xb8\\xf7\\xd1\\xf9\\xb5\\xc4\\xd1\\xc0\\xb8\\xe0\\xa3\\xac\\xd0\\xa7\\xb9\\xfb\\xd5\\xe6\\xb5\\xc4\\xbb\\xe1\\xd3\\xd0\\xb2\\xbb\\xcd\\xac\\xc2\\xf0\\xa3\\xbf\" width=\"800\" height=\"450\">\\n</a>\\n<div class=\"daily-cont\">\\n<div class=\"daily-cont-top\">\\n<h2>\\n<a href=\"/daily/view?id=60352\" target=\"_blank\" data-log=\"type:2060,action:click,area:daily-list,page:daily-index\">\\n\\xb8\\xf7\\xca\\xbd\\xb8\\xf7\\xd1\\xf9\\xb5\\xc4\\xd1\\xc0\\xb8\\xe0\\xa3\\xac\\xd0\\xa7\\xb9\\xfb\\xd5\\xe6\\xb5\\xc4\\xbb\\xe1\\xd3\\xd0\\xb2\\xbb\\xcd\\xac\\xc2\\xf0\\xa3\\xbf\\n</a>\\n</h2>\\n<div class=\"summer\">\\n<a href=\"/daily/view?id=60352\" target=\"_blank\" data-log=\"type:2060,action:click,area:daily-list,page:daily-index\">\\n\\xc8\\xd5\\xb3\\xa3\\xd6\\xd0\\xd7\\xdc\\xbb\\xe1\\xb1\\xbb\\xd0\\xa1\\xbb\\xef\\xb0\\xe9\\xb4\\xfe\\xd7\\xc5\\xce\\xca\\xc2\\xf2\\xca\\xb2\\xc3\\xb4\\xd1\\xc0\\xb8\\xe0\\xd7\\xee\\xba\\xc3\\xa3\\xac\\xd7\\xee\\xd3\\xd0\\xd0\\xa7\\xa3\\xbf\\xd1\\xc0\\xd2\\xbd\\xd7\\xd4\\xbc\\xba\\xd2\\xbb\\xb0\\xe3\\xb6\\xbc\\xd3\\xc3\\xca\\xb2\\xc3\\xb4\\xd1\\xc0\\xb8\\xe0\\xc4\\xd8\\xa3\\xbf\\n</a>\\n</div>\\n</div>\\n<div class=\"daily-info\">\\n<span class=\"fr\"><a href=\"/daily/author?un=%BA%D3%C2%ED%D1%C0%D2%BD&ie=gbk\" data-log=\"type:2060,action:click,area:author,page:daily-index\">\\xba\\xd3\\xc2\\xed\\xd1\\xc0\\xd2\\xbd</a></span>\\n<span class=\"browse-count\">\\xd4\\xc4\\xb6\\xc1(3205)</span>\\n<span class=\"comment-count\"></span>\\n</div>\\n</div>\\n</li>\\n<li class=\" clearfix\" data-id=\"60271\">\\n<a class=\"img-wp\" href=\"/daily/view?id=60271\" target=\"_blank\" data-log=\"type:2060,action:click,area:daily-list,page:daily-index\">\\n<img src=\"https://gss0.baidu.com/-4o3dSag_xI4khGko9WTAnF6hhy/zhidao/wh%3D800%2C450/sign=f05e871be1f81a4c2667e4c1e71a4c6d/b8014a90f603738d551a394db91bb051f819ec09.jpg\" alt=\"\\xa1\\xb0\\xf2\\xd4\\xc1\\xfa\\xa1\\xb1\\xba\\xc5\\xd4\\xd8\\xc8\\xcb\\xc7\\xb1\\xcb\\xae\\xc6\\xf7\\xb4\\xf8\\xc4\\xe3\\xcc\\xbd\\xd1\\xb0\\xc9\\xee\\xba\\xa3\\xc0\\xef\\xb5\\xc4\\xc6\\xe6\\xc3\\xee\\xc9\\xfa\\xc3\\xfc\\xa3\\xa1\" title=\"\\xa1\\xb0\\xf2\\xd4\\xc1\\xfa\\xa1\\xb1\\xba\\xc5\\xd4\\xd8\\xc8\\xcb\\xc7\\xb1\\xcb\\xae\\xc6\\xf7\\xb4\\xf8\\xc4\\xe3\\xcc\\xbd\\xd1\\xb0\\xc9\\xee\\xba\\xa3\\xc0\\xef\\xb5\\xc4\\xc6\\xe6\\xc3\\xee\\xc9\\xfa\\xc3\\xfc\\xa3\\xa1\" width=\"800\" height=\"450\">\\n</a>\\n<div class=\"daily-cont\">\\n<div class=\"daily-cont-top\">\\n<h2>\\n<a href=\"/daily/view?id=60271\" target=\"_blank\" data-log=\"type:2060,action:click,area:daily-list,page:daily-index\">\\n\\xa1\\xb0\\xf2\\xd4\\xc1\\xfa\\xa1\\xb1\\xba\\xc5\\xd4\\xd8\\xc8\\xcb\\xc7\\xb1\\xcb\\xae\\xc6\\xf7\\xb4\\xf8\\xc4\\xe3\\xcc\\xbd\\xd1\\xb0\\xc9\\xee\\xba\\xa3\\xc0\\xef\\xb5\\xc4\\xc6\\xe6\\xc3\\xee\\xc9\\xfa\\xc3\\xfc\\xa3\\xa1\\n</a>\\n</h2>\\n<div class=\"summer\">\\n<a href=\"/daily/view?id=60271\" target=\"_blank\" data-log=\"type:2060,action:click,area:daily-list,page:daily-index\">\\n\\xd2\\xbb\\xc6\\xf0\\xc0\\xb4\\xbf\\xb4\\xc9\\xee\\xba\\xa3\\xc0\\xef\\xb5\\xc4\\xc9\\xf1\\xc6\\xe6\\xb1\\xa6\\xb1\\xb4\\xc3\\xc7~\\n</a>\\n</div>\\n</div>\\n<div class=\"daily-info\">\\n<span class=\"fr\"><a href=\"/daily/author?un=%D6%D0%B9%FA%BF%C6%C6%D5%B2%A9%C0%C0&ie=gbk\" data-log=\"type:2060,action:click,area:author,page:daily-index\">\\xd6\\xd0\\xb9\\xfa\\xbf\\xc6\\xc6\\xd5\\xb2\\xa9\\xc0\\xc0</a></span>\\n<span class=\"browse-count\">\\xd4\\xc4\\xb6\\xc1(3345)</span>\\n<span class=\"comment-count\"></span>\\n</div>\\n</div>\\n</li>\\n<li class=\" clearfix\" data-id=\"61252\">\\n<a class=\"img-wp\" href=\"/daily/view?id=61252\" target=\"_blank\" data-log=\"type:2060,action:click,area:daily-list,page:daily-index\">\\n<img src=\"https://gss0.baidu.com/-4o3dSag_xI4khGko9WTAnF6hhy/zhidao/wh%3D800%2C450/sign=0d55184fcc5c1038242bc6ca8221bf27/060828381f30e9245c9c846446086e061d95f7af.jpg\" alt=\"\\xd5\\xbe\\xd4\\xda\\xce\\xa2\\xb2\\xa8\\xc2\\xaf\\xc7\\xb0\\xd5\\xe6\\xbb\\xe1\\xb1\\xbb\\xb7\\xf8\\xc9\\xe4\\xc2\\xf0?\" title=\"\\xd5\\xbe\\xd4\\xda\\xce\\xa2\\xb2\\xa8\\xc2\\xaf\\xc7\\xb0\\xd5\\xe6\\xbb\\xe1\\xb1\\xbb\\xb7\\xf8\\xc9\\xe4\\xc2\\xf0?\" width=\"800\" height=\"450\">\\n</a>\\n<div class=\"daily-cont\">\\n<div class=\"daily-cont-top\">\\n<h2>\\n<a href=\"/daily/view?id=61252\" target=\"_blank\" data-log=\"type:2060,action:click,area:daily-list,page:daily-index\">\\n\\xd5\\xbe\\xd4\\xda\\xce\\xa2\\xb2\\xa8\\xc2\\xaf\\xc7\\xb0\\xd5\\xe6\\xbb\\xe1\\xb1\\xbb\\xb7\\xf8\\xc9\\xe4\\xc2\\xf0?\\n</a>\\n</h2>\\n<div class=\"summer\">\\n<a href=\"/daily/view?id=61252\" target=\"_blank\" data-log=\"type:2060,action:click,area:daily-list,page:daily-index\">\\n\\xbc\\xd2\\xd3\\xc3\\xce\\xa2\\xb2\\xa8\\xc2\\xaf\\xca\\xc7\\xce\\xd2\\xc3\\xc7\\xb5\\xc4\\xba\\xc3\\xb0\\xef\\xca\\xd6\\xa3\\xac\\xc8\\xc8\\xb7\\xb9\\xb2\\xcb\\xa1\\xa2\\xbf\\xbe\\xbc\\xa6\\xcd\\xc8\\xca\\xb2\\xc3\\xb4\\xb5\\xc4\\xd5\\xe6\\xb5\\xc4\\xca\\xc7\\xb7\\xd6\\xb7\\xd6\\xd6\\xd3\\xb5\\xc4\\xca\\xc2\\xc7\\xe9\\xa1\\xa3\\xcb\\xfc\\xb5\\xc4\\xb5\\xae\\xc9\\xfa\\xd2\\xd1\\xbe\\xad\\xd3\\xd0\\xce\\xe5\\xca\\xae\\xb6\\xe0\\xc4\\xea\\xc0\\xfa\\xca\\xb7\\xa3\\xac\\xc4\\xe3\\xd6\\xaa\\xb5\\xc0\\xd5\\xe2\\xb8\\xf6\\xbc\\xd2\\xd3\\xc3\\xc9\\xe8\\xb1\\xb8\\xb5\\xc4\\xca\\xb9\\xd3\\xc3\\xca\\xc7\\xba\\xcd\\xc0\\xd7\\xb4\\xef\\xd2\\xbb\\xd1\\xf9\\xc2\\xf0?\\xcb\\xfc\\xb5\\xc4\\xc5\\xeb\\xe2\\xbf\\xbc\\xbc\\xca\\xf5\\xca\\xc7\\xd4\\xda\\xd2\\xbb\\xb8\\xf6\\xc5\\xbc\\xc8\\xbb\\xc7\\xe9\\xbf\\xf6\\xcf\\xc2\\xb7\\xa2\\xcf\\xd6\\xb5\\xc4\\xa1\\xa3\\n</a>\\n</div>\\n</div>\\n<div class=\"daily-info\">\\n<span class=\"fr\"><a href=\"/daily/author?un=%BF%C6%BC%BC%D0%C2%B7%A2%CF%D6&ie=gbk\" data-log=\"type:2060,action:click,area:author,page:daily-index\">\\xbf\\xc6\\xbc\\xbc\\xd0\\xc2\\xb7\\xa2\\xcf\\xd6</a></span>\\n<span class=\"browse-count\">\\xd4\\xc4\\xb6\\xc1(2673)</span>\\n<span class=\"comment-count\"></span>\\n</div>\\n</div>\\n</li>\\n<li class=\" clearfix\" data-id=\"61110\">\\n<a class=\"img-wp\" href=\"/daily/view?id=61110\" target=\"_blank\" data-log=\"type:2060,action:click,area:daily-list,page:daily-index\">\\n<img src=\"https://gss0.baidu.com/-4o3dSag_xI4khGko9WTAnF6hhy/zhidao/wh%3D800%2C450/sign=91ad2bb39b2397ddd62c900c69b29e83/03087bf40ad162d9064670481bdfa9ec8a13cd3e.jpg\" alt=\"\\xbf\\xc6\\xc6\\xd5\\xa3\\xba\\xc6\\xad\\xd7\\xd3\\xca\\xc7\\xc8\\xe7\\xba\\xce\\xd3\\xc3\\xa1\\xb0\\xc3\\xf1\\xd7\\xe5\\xd7\\xca\\xb2\\xfa\\xbd\\xe2\\xb6\\xb3\\xa1\\xb1\\xbd\\xf8\\xd0\\xd0\\xd5\\xa9\\xc6\\xad\\xb5\\xc4\\xa3\\xbf\" title=\"\\xbf\\xc6\\xc6\\xd5\\xa3\\xba\\xc6\\xad\\xd7\\xd3\\xca\\xc7\\xc8\\xe7\\xba\\xce\\xd3\\xc3\\xa1\\xb0\\xc3\\xf1\\xd7\\xe5\\xd7\\xca\\xb2\\xfa\\xbd\\xe2\\xb6\\xb3\\xa1\\xb1\\xbd\\xf8\\xd0\\xd0\\xd5\\xa9\\xc6\\xad\\xb5\\xc4\\xa3\\xbf\" width=\"800\" height=\"450\">\\n</a>\\n<div class=\"daily-cont\">\\n<div class=\"daily-cont-top\">\\n<h2>\\n<a href=\"/daily/view?id=61110\" target=\"_blank\" data-log=\"type:2060,action:click,area:daily-list,page:daily-index\">\\n\\xbf\\xc6\\xc6\\xd5\\xa3\\xba\\xc6\\xad\\xd7\\xd3\\xca\\xc7\\xc8\\xe7\\xba\\xce\\xd3\\xc3\\xa1\\xb0\\xc3\\xf1\\xd7\\xe5\\xd7\\xca\\xb2\\xfa\\xbd\\xe2\\xb6\\xb3\\xa1\\xb1\\xbd\\xf8\\xd0\\xd0\\xd5\\xa9\\xc6\\xad\\xb5\\xc4\\xa3\\xbf\\n</a>\\n</h2>\\n<div class=\"summer\">\\n<a href=\"/daily/view?id=61110\" target=\"_blank\" data-log=\"type:2060,action:click,area:daily-list,page:daily-index\">\\n\\xce\\xd2\\xd3\\xd0\\xbc\\xb8\\xb0\\xd9\\xb8\\xf6\\xd2\\xda\\xb5\\xc4\\xd7\\xca\\xb2\\xfa\\xb4\\xfd\\xbd\\xe2\\xb6\\xb3\\xa3\\xac\\xc5\\xf3\\xd3\\xd1\\xa3\\xac\\xc4\\xe3\\xb0\\xef\\xc1\\xcb\\xce\\xd2\\xa3\\xac\\xce\\xd2\\xc9\\xcd\\xc4\\xe3\\xbc\\xb8\\xb8\\xf6\\xd2\\xda\\xcb\\xe6\\xb1\\xe3\\xbb\\xa8\\xbb\\xa8......\\n</a>\\n</div>\\n</div>\\n<div class=\"daily-info\">\\n<span class=\"fr\"><a href=\"/daily/author?un=%EB%DE%CB%B5&ie=gbk\" data-log=\"type:2060,action:click,area:author,page:daily-index\">\\xeb\\xde\\xcb\\xb5</a></span>\\n<span class=\"browse-count\">\\xd4\\xc4\\xb6\\xc1(2810)</span>\\n<span class=\"comment-count\"></span>\\n</div>\\n</div>\\n</li>\\n<li class=\" clearfix\" data-id=\"60895\">\\n<a class=\"img-wp\" href=\"/daily/view?id=60895\" target=\"_blank\" data-log=\"type:2060,action:click,area:daily-list,page:daily-index\">\\n<img src=\"https://gss0.baidu.com/-vo3dSag_xI4khGko9WTAnF6hhy/zhidao/wh%3D800%2C450/sign=013626cfc1ef76093c5e91971eed8ff8/622762d0f703918fad2e1f985b3d269758eec4e0.jpg\" alt=\"\\xb8\\xdf\\xbf\\xbc\\xbd\\xe1\\xca\\xf8\\xc1\\xcb\\xa3\\xac\\xc4\\xe3\\xb5\\xc4\\xc7\\xe0\\xb4\\xba\\xbd\\xe1\\xca\\xf8\\xc1\\xcb\\xc2\\xf0\\xa3\\xbf\" title=\"\\xb8\\xdf\\xbf\\xbc\\xbd\\xe1\\xca\\xf8\\xc1\\xcb\\xa3\\xac\\xc4\\xe3\\xb5\\xc4\\xc7\\xe0\\xb4\\xba\\xbd\\xe1\\xca\\xf8\\xc1\\xcb\\xc2\\xf0\\xa3\\xbf\" width=\"800\" height=\"450\">\\n</a>\\n<div class=\"daily-cont\">\\n<div class=\"daily-cont-top\">\\n<h2>\\n<a href=\"/daily/view?id=60895\" target=\"_blank\" data-log=\"type:2060,action:click,area:daily-list,page:daily-index\">\\n\\xb8\\xdf\\xbf\\xbc\\xbd\\xe1\\xca\\xf8\\xc1\\xcb\\xa3\\xac\\xc4\\xe3\\xb5\\xc4\\xc7\\xe0\\xb4\\xba\\xbd\\xe1\\xca\\xf8\\xc1\\xcb\\xc2\\xf0\\xa3\\xbf\\n</a>\\n</h2>\\n<div class=\"summer\">\\n<a href=\"/daily/view?id=60895\" target=\"_blank\" data-log=\"type:2060,action:click,area:daily-list,page:daily-index\">\\n\\xd7\\xee\\xbb\\xb3\\xc4\\xee\\xb5\\xc4\\xa3\\xac\\xb3\\xfd\\xc1\\xcb\\xd7\\xee\\xb3\\xf5\\xb5\\xc4\\xc4\\xc7\\xb8\\xf6\\xc8\\xcb\\xa3\\xac\\xbb\\xb9\\xd3\\xd0\\xb8\\xdf\\xd6\\xd0\\xca\\xb1\\xb4\\xfa\\xc7\\xe0\\xc9\\xac\\xb5\\xc4\\xbb\\xd8\\xd2\\xe4\\n</a>\\n</div>\\n</div>\\n<div class=\"daily-info\">\\n<span class=\"fr\"><a href=\"/daily/author?un=%BE%E7%CD%B8%C9%E7&ie=gbk\" data-log=\"type:2060,action:click,area:author,page:daily-index\">\\xbe\\xe7\\xcd\\xb8\\xc9\\xe7</a></span>\\n<span class=\"browse-count\">\\xd4\\xc4\\xb6\\xc1(2411)</span>\\n<span class=\"comment-count\"></span>\\n</div>\\n</div>\\n</li>\\n<li class=\"last clearfix\" data-id=\"55780\">\\n<a class=\"img-wp\" href=\"/daily/view?id=55780\" target=\"_blank\" data-log=\"type:2060,action:click,area:daily-list,page:daily-index\">\\n<img src=\"https://gss0.baidu.com/7Po3dSag_xI4khGko9WTAnF6hhy/zhidao/wh%3D800%2C450/sign=ba473b529aef76c6d087f323ad26d1ce/7acb0a46f21fbe0934f92a6761600c338744ad1a.jpg\" alt=\"\\xc8\\xcb\\xce\\xaa\\xca\\xb2\\xc3\\xb4\\xbb\\xe1\\xcf\\xdd\\xc8\\xeb\\xa1\\xb0\\xc8\\xf4\\xc4\\xe3\\xb2\\xbb\\xd6\\xf7\\xb6\\xaf\\xd5\\xd2\\xce\\xd2\\xa3\\xac\\xbe\\xcd\\xcb\\xe3\\xce\\xd2\\xcf\\xeb\\xc4\\xe3\\xd2\\xb2\\xb2\\xbb\\xbb\\xe1\\xd6\\xf7\\xb6\\xaf\\xa1\\xb1\\xb5\\xc4\\xb9\\xd6\\xc8\\xa6\" title=\"\\xc8\\xcb\\xce\\xaa\\xca\\xb2\\xc3\\xb4\\xbb\\xe1\\xcf\\xdd\\xc8\\xeb\\xa1\\xb0\\xc8\\xf4\\xc4\\xe3\\xb2\\xbb\\xd6\\xf7\\xb6\\xaf\\xd5\\xd2\\xce\\xd2\\xa3\\xac\\xbe\\xcd\\xcb\\xe3\\xce\\xd2\\xcf\\xeb\\xc4\\xe3\\xd2\\xb2\\xb2\\xbb\\xbb\\xe1\\xd6\\xf7\\xb6\\xaf\\xa1\\xb1\\xb5\\xc4\\xb9\\xd6\\xc8\\xa6\" width=\"800\" height=\"450\">\\n</a>\\n<div class=\"daily-cont\">\\n<div class=\"daily-cont-top\">\\n<h2>\\n<a href=\"/daily/view?id=55780\" target=\"_blank\" data-log=\"type:2060,action:click,area:daily-list,page:daily-index\">\\n\\xc8\\xcb\\xce\\xaa\\xca\\xb2\\xc3\\xb4\\xbb\\xe1\\xcf\\xdd\\xc8\\xeb\\xa1\\xb0\\xc8\\xf4\\xc4\\xe3\\xb2\\xbb\\xd6\\xf7\\xb6\\xaf\\xd5\\xd2\\xce\\xd2\\xa3\\xac\\xbe\\xcd\\xcb\\xe3\\xce\\xd2\\xcf\\xeb\\xc4\\xe3\\xd2\\xb2\\xb2\\xbb\\xbb\\xe1\\xd6\\xf7...\\n</a>\\n</h2>\\n<div class=\"summer\">\\n<a href=\"/daily/view?id=55780\" target=\"_blank\" data-log=\"type:2060,action:click,area:daily-list,page:daily-index\">\\n\\xc7\\xe9\\xc8\\xcb\\xbc\\xe4\\xd3\\xd0\\xb6\\xe0\\xc9\\xd9\\xb4\\xce\\xc0\\xe4\\xd5\\xbd\\xc0\\xb4\\xd7\\xd4\\xa1\\xb0\\xce\\xd2\\xb2\\xbb\\xc0\\xb4\\xd5\\xd2\\xc4\\xe3\\xa3\\xac\\xc4\\xe3\\xbe\\xcd\\xb2\\xbb\\xbb\\xe1\\xc8\\xa5\\xd5\\xd2\\xce\\xd2\\xc2\\xf0\\xa1\\xb1 \\xa3\\xbf\\xc3\\xf7\\xc3\\xf7\\xd6\\xaa\\xb5\\xc0\\xc8\\xcb\\xd0\\xc4\\xb8\\xf4\\xb6\\xc7\\xc6\\xa4\\xa3\\xac\\xbf\\xc9\\xce\\xaa\\xca\\xb2\\xc3\\xb4\\xc8\\xcb\\xc3\\xc7\\xbb\\xb9\\xca\\xc7\\xbb\\xe1\\xcf\\xdd\\xc8\\xeb\\xa1\\xb0\\xc8\\xe7\\xb9\\xfb\\xc4\\xe3\\xb2\\xbb\\xd6\\xf7\\xb6\\xaf\\xd5\\xd2\\xce\\xd2\\xa3\\xac\\xbe\\xcd\\xcb\\xe3\\xce\\xd2\\xba\\xdc\\xcf\\xeb\\xb8\\xfa\\xc4\\xe3\\xcb\\xb5\\xbb\\xb0\\xd2\\xb2\\xb2\\xbb\\xbb\\xe1\\xd6\\xf7\\xb6\\xaf\\xd5\\xd2\\xc4\\xe3\\xa1\\xb1\\xb5\\xc4\\xb9\\xd6\\xc8\\xa6\\xa3\\xbf\\n</a>\\n</div>\\n</div>\\n<div class=\"daily-info\">\\n<span class=\"fr\"><a href=\"/daily/author?un=33IQ%CD%F8&ie=gbk\" data-log=\"type:2060,action:click,area:author,page:daily-index\">33IQ\\xcd\\xf8</a></span>\\n<span class=\"browse-count\">\\xd4\\xc4\\xb6\\xc1(4455)</span>\\n<span class=\"comment-count\"></span>\\n</div>\\n</div>\\n</li>\\n</ul>\\n</div><aside class=\"aside-wp grid-r\">\\n<div class=\"aside\">\\n<div class=\"daily-data\">\\n<ul>\\n<li><b class=\"author-icon\"></b>\\xcc\\xd8\\xd4\\xbc\\xd7\\xf7\\xd5\\xdf<span class=\"num num0\">6</span>\\n<span class=\"num num1\">7</span>\\n<span class=\"num num2\">7</span>\\n<span class=\"num num3\">1</span>\\n</li>\\n<li><b class=\"organization-icon\"></b>\\xba\\xcf\\xd7\\xf7\\xbb\\xfa\\xb9\\xb9<span class=\"num num0\">6</span>\\n<span class=\"num num1\">8</span>\\n<span class=\"num num2\">3</span>\\n</li>\\n<li><b class=\"daily-icon\"></b>\\xc0\\xfa\\xca\\xb7\\xce\\xc4\\xd5\\xc2<span class=\"num num0\">4</span>\\n<span class=\"num num1\">5</span>\\n<span class=\"num num2\">9</span>\\n<span class=\"num num3\">2</span>\\n<span class=\"num num4\">0</span>\\n</li>\\n</ul>\\n</div><div class=\"recommend-author-wp\">\\n<div class=\"recommend-author\">\\n<h3>\\xc8\\xc8\\xc3\\xc5\\xd7\\xf7\\xd5\\xdf\\xcd\\xc6\\xbc\\xf6</h3>\\n<ul>\\n<li class=\"clearfix\"><dl>\\n<dt><a href=\"/daily/author?un=%CE%EF%D6%CA%B5%DA%CB%C4%CC%AC&ie=gbk\" data-log=\"type:2060,action:click,area:rec-author,page:daily-index\" target=\"_blank\">\\xce\\xef\\xd6\\xca\\xb5\\xda\\xcb\\xc4\\xcc\\xac</a></dt>\\n<dd class=\"intro\">\\xd6\\xd0\\xb9\\xfa\\xbf\\xc6\\xd1\\xa7\\xd4\\xba\\xb9\\xfa\\xbc\\xd2\\xbf\\xd5\\xbc\\xe4\\xbf\\xc6\\xd1\\xa7\\xd6\\xd0\\xd0\\xc4\\xd4\\xda\\xb6\\xc1\\xb2\\xa9\\xca\\xbf</dd>\\n<dd class=\"face\"><a href=\"/daily/author?un=%CE%EF%D6%CA%B5%DA%CB%C4%CC%AC&ie=gbk\" data-log=\"type:2060,action:click,area:rec-author,page:daily-index\" target=\"_blank\"><img src=\"https://gss0.bdstatic.com/70cFsj3f_gcX8t7mm9GUKT-xh_/zhidaoribao2014/authors/lihuichao.jpg\" alt=\"\\xd6\\xaa\\xb5\\xc0\\xc8\\xd5\\xb1\\xa8\\xd7\\xf7\\xd5\\xdf\\xce\\xef\\xd6\\xca\\xb5\\xda\\xcb\\xc4\\xcc\\xac\\xb5\\xc4\\xcd\\xb7\\xcf\\xf1\" width=\"80\" height=\"80\"/></a></dd>\\n</dl>\\n</li>\\n<li class=\"clearfix\"><dl>\\n<dt><a href=\"/daily/author?un=%CA%D3%D6%AATV&ie=gbk\" data-log=\"type:2060,action:click,area:rec-author,page:daily-index\" target=\"_blank\">\\xca\\xd3\\xd6\\xaaTV</a></dt>\\n<dd class=\"intro\">\\xd6\\xaa\\xca\\xb6\\xbf\\xb4\\xb5\\xc3\\xbc\\xfb\\xa1\\xa3</dd>\\n<dd class=\"face\"><a href=\"/daily/author?un=%CA%D3%D6%AATV&ie=gbk\" data-log=\"type:2060,action:click,area:rec-author,page:daily-index\" target=\"_blank\"><img src=\"https://gss0.baidu.com/-fo3dSag_xI4khGko9WTAnF6hhy/zhidao/wh%3D450%2C600/sign=6d7687e5af1ea8d38a777c00a23a1c78/0dd7912397dda144f3b85cecbbb7d0a20cf4863e.jpg\" alt=\"\\xd6\\xaa\\xb5\\xc0\\xc8\\xd5\\xb1\\xa8\\xd7\\xf7\\xd5\\xdf\\xca\\xd3\\xd6\\xaaTV\\xb5\\xc4\\xcd\\xb7\\xcf\\xf1\" width=\"80\" height=\"80\"/></a></dd>\\n</dl>\\n</li>\\n<li class=\"clearfix\"><dl>\\n<dt><a href=\"/daily/author?un=%D0%A1%C1%F5%D9%A9%B7%E2%C9%F1&ie=gbk\" data-log=\"type:2060,action:click,area:rec-author,page:daily-index\" target=\"_blank\">\\xd0\\xa1\\xc1\\xf5\\xd9\\xa9\\xb7\\xe2\\xc9\\xf1</a></dt>\\n<dd class=\"intro\">\\xbd\\xb2\\xbd\\xe2\\xb7\\xe2\\xc9\\xf1\\xd1\\xdd\\xd2\\xe5\\xd3\\xeb\\xce\\xf7\\xd3\\xce\\xbc\\xc7\\xb5\\xc4\\xb9\\xca\\xca\\xc2</dd>\\n<dd class=\"face\"><a href=\"/daily/author?un=%D0%A1%C1%F5%D9%A9%B7%E2%C9%F1&ie=gbk\" data-log=\"type:2060,action:click,area:rec-author,page:daily-index\" target=\"_blank\"><img src=\"https://gss0.baidu.com/-fo3dSag_xI4khGko9WTAnF6hhy/zhidao/wh%3D450%2C600/sign=c8a843b5d9160924dc70aa1fe13719cc/f11f3a292df5e0fee770ade2556034a85fdf72ec.jpg\" alt=\"\\xd6\\xaa\\xb5\\xc0\\xc8\\xd5\\xb1\\xa8\\xd7\\xf7\\xd5\\xdf\\xd0\\xa1\\xc1\\xf5\\xd9\\xa9\\xb7\\xe2\\xc9\\xf1\\xb5\\xc4\\xcd\\xb7\\xcf\\xf1\" width=\"80\" height=\"80\"/></a></dd>\\n</dl>\\n</li>\\n<li class=\"clearfix\"><dl>\\n<dt><a href=\"/daily/author?un=%EB%DE%CB%B5&ie=gbk\" data-log=\"type:2060,action:click,area:rec-author,page:daily-index\" target=\"_blank\">\\xeb\\xde\\xcb\\xb5</a></dt>\\n<dd class=\"intro\">\\xd7\\xee\\xd3\\xd0\\xc8\\xa4\\xb5\\xc4\\xc0\\xfa\\xca\\xb7\\xc2\\xfe\\xbb\\xad\\xa3\\xa1</dd>\\n<dd class=\"face\"><a href=\"/daily/author?un=%EB%DE%CB%B5&ie=gbk\" data-log=\"type:2060,action:click,area:rec-author,page:daily-index\" target=\"_blank\"><img src=\"https://gss0.baidu.com/-vo3dSag_xI4khGko9WTAnF6hhy/zhidao/wh%3D450%2C600/sign=0af97eff0355b3199cac8a717699ae10/a9d3fd1f4134970a957422d19ccad1c8a6865dcc.jpg\" alt=\"\\xd6\\xaa\\xb5\\xc0\\xc8\\xd5\\xb1\\xa8\\xd7\\xf7\\xd5\\xdf\\xeb\\xde\\xcb\\xb5\\xb5\\xc4\\xcd\\xb7\\xcf\\xf1\" width=\"80\" height=\"80\"/></a></dd>\\n</dl>\\n</li>\\n<li class=\"clearfix\"><dl>\\n<dt><a href=\"/daily/author?un=%D6%D0%B9%FA%BF%C6%C6%D5%B2%A9%C0%C0&ie=gbk\" data-log=\"type:2060,action:click,area:rec-author,page:daily-index\" target=\"_blank\">\\xd6\\xd0\\xb9\\xfa\\xbf\\xc6\\xc6\\xd5\\xb2\\xa9\\xc0\\xc0</a></dt>\\n<dd class=\"intro\">\\xd6\\xd0\\xb9\\xfa\\xbf\\xc6\\xd1\\xa7\\xd4\\xba\\xcd\\xf8\\xc2\\xe7\\xbf\\xc6\\xc6\\xd5\\xc3\\xc5\\xbb\\xa7\\xa3\\xac\\xb7\\xd6\\xcf\\xed\\xc7\\xb0\\xd1\\xd8\\xa1\\xa2\\xd3\\xd0\\xc8\\xa4\\xd3\\xd6\\xd3\\xd0\\xc1\\xcf\\xb5\\xc4\\xbf\\xc6\\xd1\\xa7\\xd6\\xaa\\xca\\xb6\\xa1\\xa3</dd>\\n<dd class=\"face\"><a href=\"/daily/author?un=%D6%D0%B9%FA%BF%C6%C6%D5%B2%A9%C0%C0&ie=gbk\" data-log=\"type:2060,action:click,area:rec-author,page:daily-index\" target=\"_blank\"><img src=\"https://gss0.bdstatic.com/70cFsj3f_gcX8t7mm9GUKT-xh_/zhidaoribao2014/authors/kepubolan.jpg\" alt=\"\\xd6\\xaa\\xb5\\xc0\\xc8\\xd5\\xb1\\xa8\\xd7\\xf7\\xd5\\xdf\\xd6\\xd0\\xb9\\xfa\\xbf\\xc6\\xc6\\xd5\\xb2\\xa9\\xc0\\xc0\\xb5\\xc4\\xcd\\xb7\\xcf\\xf1\" width=\"80\" height=\"80\"/></a></dd>\\n</dl>\\n</li>\\n<li class=\"clearfix last\"><dl>\\n<dt><a href=\"/daily/author?un=%A1%B6%B4%F3%BF%C6%BC%BC%A1%B7%D4%D3%D6%BE&ie=gbk\" data-log=\"type:2060,action:click,area:rec-author,page:daily-index\" target=\"_blank\">\\xa1\\xb6\\xb4\\xf3\\xbf\\xc6\\xbc\\xbc\\xa1\\xb7\\xd4\\xd3\\xd6\\xbe</a></dt>\\n<dd class=\"intro\">\\xb4\\xb4\\xbf\\xaf\\xd3\\xda1997\\xc4\\xea\\xa3\\xac\\xd2\\xd4\\xb0\\xae\\xd2\\xf2\\xcb\\xb9\\xcc\\xb9\\xb5\\xc4\\xa1\\xb0\\xcf\\xeb\\xcf\\xf3\\xc1\\xa6\\xb1\\xc8\\xd6\\xaa\\xca\\xb6\\xb8\\xfc\\xd6\\xd8\\xd2\\xaa\\xa1\\xb1\\xce\\xaa\\xb0\\xec\\xbf\\xaf\\xd7\\xda\\xd6\\xbc\\xa1\\xa3</dd>\\n<dd class=\"face\"><a href=\"/daily/author?un=%A1%B6%B4%F3%BF%C6%BC%BC%A1%B7%D4%D3%D6%BE&ie=gbk\" data-log=\"type:2060,action:click,area:rec-author,page:daily-index\" target=\"_blank\"><img src=\"https://gss0.bdstatic.com/70cFsj3f_gcX8t7mm9GUKT-xh_/zhidaoribao2014/authors/dkj.jpg\" alt=\"\\xd6\\xaa\\xb5\\xc0\\xc8\\xd5\\xb1\\xa8\\xd7\\xf7\\xd5\\xdf\\xa1\\xb6\\xb4\\xf3\\xbf\\xc6\\xbc\\xbc\\xa1\\xb7\\xd4\\xd3\\xd6\\xbe\\xb5\\xc4\\xcd\\xb7\\xcf\\xf1\" width=\"80\" height=\"80\"/></a></dd>\\n</dl>\\n</li>\\n</ul></div>\\n</div>\\n<div class=\"ad-wp\">\\n<div class=\"ad\">\\n<a href=\"https://zhidao.baidu.com/daily/square\" target=\"_blank\" data-log=\"type:2060,action:click,area:ad1,page:daily-index\"><img src=\"https://gss0.bdstatic.com/7051cy89RcgCncy6lo7D0j9wexYrbOWh7c50/zhidaoribao/tuiguang/wzgc254160.jpg\"></a>\\n</div>\\n</div>\\n</div><div class=\"wgt-ad-friend aside-box\">\\n<h2>\\xb8\\xfc\\xb6\\xe0\\xd6\\xaa\\xca\\xb6\\xc0\\xb8\\xc4\\xbf</h2>\\n<a class=\"daily\" href=\"http://zhidao.baidu.com/liuyan\" target=\"_blank\" data-log=\"type:2060,action:click,area:ad-friend-1,page:daily-index\">\\n<img src=\"https://gss0.bdstatic.com/7051cy792sgCpNKfpU_Y_D3/static/daily/widget/ad-friend/img/liuyanbanner_5316a89.jpg\" alt=\"\\xd5\\xe6\\xcf\\xe0\\xce\\xca\\xb4\\xf0\\xbb\\xfa\">\\n</a>\\n<a class=\"bigdata\" href=\"http://zhidao.baidu.com/bigdata/view\" target=\"_blank\" data-log=\"type:2060,action:click,area:ad-friend-2,page:daily-index\">\\n<img src=\"https://gss0.bdstatic.com/7051cy792sgCpNKfpU_Y_D3/static/daily/widget/ad-friend/img/bigdata_d306229.jpg\" alt=\"\\xd6\\xaa\\xb5\\xc0\\xb4\\xf3\\xca\\xfd\\xbe\\xdd\">\\n</a>\\n</div></aside>\\n</div>\\n<aside class=\"period-nav-wp\">\\n<div class=\"period-nav\">\\n<h2>\\xd6\\xaa\\xb5\\xc0\\xc8\\xd5\\xb1\\xa8\\xcd\\xf9\\xc6\\xda\\xbb\\xd8\\xb9\\xcb</h2>\\n<div id=\"slider\" class=\"slider-wp\">\\n<div class=\"slider\">\\n<ul class=\"clearfix\"></ul>\\n</div>\\n<a href=\"\" class=\"prev\" title=\"\\xc7\\xb0\\xc8\\xfd\\xc6\\xda\"></a>\\n<a href=\"\" class=\"next\" title=\"\\xba\\xf3\\xc8\\xfd\\xc6\\xda\"></a>\\n</div>\\n</div>\\n<script id=\"t:period-nav-li\" type=\"text/html\">\\n<#for(var i = 0; i < list.length; i++) {#>\\n    <li>\\n        <a href=\"/daily/?period=<#=list[i].period#>&fr=daily-index-periodnav\" target=\"_blank\" data-log=\"type:2060,action:click,area:period-nav,page:daily-index\">\\n            <div class=\"img-wp\">\\n                <img src=\"<#-__2ssl__(list[i].imgUrl)#>\" width=\"231\" height=\"170\">\\n            </div>\\n            <div class=\"title\"><#=list[i].title#></div>\\n            <div class=\"period\">\\xb5\\xda<#=list[i].period#>\\xc6\\xda</div>\\n        </a>\\n    </li>\\n<#}#>\\n</script>\\n</aside>\\n</div>\\n<div class=\"f-contact\">\\xba\\xcf\\xd7\\xf7\\xbc\\xb0\\xb9\\xa9\\xb8\\xe5\\xc7\\xeb\\xc1\\xaa\\xcf\\xb5\\xa3\\xbazhidaoribao@baidu.com</div>\\n\\r\\n    </div>\\r\\n\\n\\n\\t\\t\\n            <footer id=\"footer\" class=\"wgt-footer\">\\n    <p>\\n        <a target=\"_blank\" rel=\"nofollow\" href=\"http://www.baidu.com/search/zhidao_help.html\">\\xb0\\xef\\xd6\\xfa</a>\\n        &nbsp;|&nbsp;\\n        <a target=\"_blank\" rel=\"nofollow\" href=\"http://zhidao.baidu.com/feedback\">\\xd2\\xe2\\xbc\\xfb\\xb7\\xb4\\xc0\\xa1</a>\\n        &nbsp;|&nbsp;\\n        <a target=\"_blank\" rel=\"nofollow\" href=\"http://tousu.baidu.com/zhidao\">\\xcd\\xb6\\xcb\\xdf\\xbe\\xd9\\xb1\\xa8</a>\\n        &nbsp;|&nbsp;\\n        <a target=\"_blank\" rel=\"nofollow\" href=\"http://zhidao.baidu.com/misc/more/joinus\">\\xbc\\xd3\\xc8\\xeb\\xce\\xd2\\xc3\\xc7</a>\\n    </p>\\n    <p>\\n    \\xbe\\xa9ICP\\xd6\\xa4030173\\xba\\xc5-1&nbsp;&nbsp;&nbsp;\\xbe\\xa9\\xcd\\xf8\\xce\\xc4\\xa1\\xbe2013\\xa1\\xbf0934-983\\xba\\xc5&nbsp;&nbsp;&nbsp;&nbsp;\\n    &copy;2017 Baidu&nbsp;&nbsp; <a rel=\"nofollow\" href=\"http://www.baidu.com/duty/\" target=\"_blank\">\\xca\\xb9\\xd3\\xc3\\xb0\\xd9\\xb6\\xc8\\xc7\\xb0\\xb1\\xd8\\xb6\\xc1</a>&nbsp;|&nbsp;<a rel=\"nofollow\" href=\"http://help.baidu.com/question?prod_en=zhidao&class=597&id=1001104\" target=\"_blank\">\\xd6\\xaa\\xb5\\xc0\\xd0\\xad\\xd2\\xe9</a>&nbsp;|&nbsp;<a rel=\"nofollow\" href=\"/special/view/cooperation\" target=\"_blank\">\\xb0\\xd9\\xb6\\xc8\\xd6\\xaa\\xb5\\xc0\\xc6\\xb7\\xc5\\xc6\\xba\\xcf\\xd7\\xf7</a>\\n    </p>\\n</footer>\\n\\n\\t\\t\\n\\n\\t    \\n        \\n        \\n\\n        \\n                    \\n\\n        \\r\\n    <script>\\r\\n    void function(a,b,c,d,e,f){function g(b){a.attachEvent?a.attachEvent(\"onload\",b,!1):a.addEventListener&&a.addEventListener(\"load\",b)}function h(a,c,d){d=d||15;var e=new Date;e.setTime((new Date).getTime()+1e3*d),b.cookie=a+\"=\"+escape(c)+\";path=/;expires=\"+e.toGMTString()}function i(a){var c=b.cookie.match(new RegExp(\"(^| )\"+a+\"=([^;]*)(;|$)\"));return null!=c?unescape(c[2]):null}function j(){var a=i(\"PMS_JT\");if(a){h(\"PMS_JT\",\"\",-1);try{a=a.match(/{[\"\\']s[\"\\']:(\\\\d+),[\"\\']r[\"\\']:[\"\\']([\\\\s\\\\S]+)[\"\\']}/),a=a&&a[1]&&a[2]?{s:parseInt(a[1]),r:a[2]}:{}}catch(c){a={}}a.r&&b.referrer.replace(/#.*/,\"\")!=a.r||alog(\"speed.set\",\"wt\",a.s)}}if(a.alogObjectConfig){var k=a.alogObjectConfig.sample,l=a.alogObjectConfig.rand;d=\"https:\"===a.location.protocol?\"https://fex.bdstatic.com\"+d:\"http://fex.bdstatic.com\"+d,k&&l&&l>k||(g(function(){alog(\"speed.set\",\"lt\",+new Date),e=b.createElement(c),e.async=!0,e.src=d+\"?v=\"+~(new Date/864e5)+~(new Date/864e5),f=b.getElementsByTagName(c)[0],f.parentNode.insertBefore(e,f)}),j())}}(window,document,\"script\",\"/hunter/alog/dp.min.js\");\\r\\n    </script>\\r\\n\\t\\t\\n<script>\\n    var _hmt = _hmt || [];\\n    (function() {\\n      var hm = document.createElement(\"script\");\\n      hm.src = \"https://hm.baidu.com/hm.js?92f9337283b8a859284c612d2cfeb037\";\\n      var s = document.getElementsByTagName(\"script\")[0]; \\n      s.parentNode.insertBefore(hm, s);\\n    })();\\n    </script>\\n\\n\\t</body><script type=\"text/javascript\" src=\"https://gss0.bdstatic.com/7051cy792sgCpNKfpU_Y_D3/static/common/lib/mod_96dd55b.js\"></script><script type=\"text/javascript\">require.resourceMap({\"res\":{\"common:widget\\\\/lib\\\\/swfupload\\\\/swfupload.js\":{\"url\":\"https:\\\\/\\\\/gss0.bdstatic.com\\\\/7051cy792sgCpNKfpU_Y_D3\\\\/static\\\\/common\\\\/widget\\\\/lib\\\\/swfupload\\\\/swfupload_b24a26d.js\"}},\"pkg\":[]});</script><script type=\"text/javascript\" src=\"https://gss0.bdstatic.com/7051cy792sgCpNKfpU_Y_D3/static/common/pkg/framework_35930a1.js\"></script><script type=\"text/javascript\" src=\"https://gss0.bdstatic.com/7051cy792sgCpNKfpU_Y_D3/static/common/pkg/more_fc10a72.js\"></script><script type=\"text/javascript\" src=\"https://gss0.bdstatic.com/7051cy792sgCpNKfpU_Y_D3/static/common/widget/js/logic/qianbao-iframe/qianbao-dialog_a3c13c6.js\"></script><script type=\"text/javascript\" src=\"https://gss0.bdstatic.com/7051cy792sgCpNKfpU_Y_D3/static/common/pkg/validate_d964132.js\"></script><script type=\"text/javascript\" src=\"https://gss0.bdstatic.com/7051cy792sgCpNKfpU_Y_D3/static/common/pkg/module_2387ef4.js\"></script><script type=\"text/javascript\" src=\"https://gss0.bdstatic.com/7051cy792sgCpNKfpU_Y_D3/static/common/widget/js/ui/pager/pagerBase_025e04c.js\"></script><script type=\"text/javascript\" src=\"https://gss0.bdstatic.com/7051cy792sgCpNKfpU_Y_D3/static/common/widget/js/ui/pager/normalPager_4234b94.js\"></script><script type=\"text/javascript\" src=\"https://gss0.bdstatic.com/7051cy792sgCpNKfpU_Y_D3/static/daily/widget/js/daily/daily_429d0f6.js\"></script><script type=\"text/javascript\" src=\"https://gss0.bdstatic.com/7051cy792sgCpNKfpU_Y_D3/static/daily/widget/js/player/cyberplayer_be20f66.js\"></script><script type=\"text/javascript\" src=\"https://gss0.bdstatic.com/7051cy792sgCpNKfpU_Y_D3/static/daily/pkg/editor_59a4773.js\"></script><script type=\"text/javascript\" src=\"https://gss0.bdstatic.com/7051cy792sgCpNKfpU_Y_D3/static/daily/widget/js/jcrop/jcrop.jquery_fb936a3.js\"></script><script type=\"text/javascript\" src=\"https://gss0.bdstatic.com/7051cy792sgCpNKfpU_Y_D3/static/daily/widget/js/custom-style/custom-style_2ac2a64.js\"></script><script type=\"text/javascript\" src=\"https://gss0.bdstatic.com/7051cy792sgCpNKfpU_Y_D3/static/daily/widget/js/validator/validator_3e01e0b.js\"></script><script type=\"text/javascript\" src=\"https://gss0.bdstatic.com/7051cy792sgCpNKfpU_Y_D3/static/daily/pkg/daily_c3043b5.js\"></script><script type=\"text/javascript\">\\n!function(){    require.async(\\'common:widget/userbar-new/userbar-new.js\\');\\n}();\\n!function(){    require.async(\\'daily:widget/search-box/search-box.js\\', function(o) {\\n        o.init(1);\\n    });\\n}();\\n!function(){    require.async(\\'daily:widget/menu/menu.js\\', function (o) {\\n        o.init(1);\\n    });\\n}();\\n!function(){    require.async(\\'daily:widget/daily-list/daily-list.js\\', function(obj) {\\r\\n        obj.init();\\r\\n    });\\r\\n}();\\n!function(){    require.async(\\'daily:widget/period-nav/period-nav.js\\', function(nav) {\\n        nav.init({cur: 1382, count: 1382});\\n    });\\n}();\\n!function(){        require.async(\\'daily:widget/js/page/index.js\\', function(obj) {\\r\\n            obj.init();\\r\\n        });\\r\\n    }();\\n!function(){    require.async(\\'common:widget/js/util/log/log.js\\', function(log){\\r\\n    \\tlog.init({\\r\\n    \\t\\tquery: \\'body\\',\\r\\n    \\t\\taction: \\'click\\'\\r\\n    \\t});\\r\\n    });\\r\\n}();\\n!function(){    require(\\'common:widget/js/logic/ie-prompt/ie-prompt.js\\');\\n}();\\n!function(){\\t\\t\\t\\t\\t\\t\\t\\t                \\t\\t\\t\\trequire.async(\\'common:widget/js/logic/dom-ready/dom-ready.js\\', function(D){ D.init([]) });\\n            }();\\n</script>    \\n<script type=\"text/javascript\">\\n    require.async(\\'common:widget/lib/jquery/jquery.js\\', function ($) {\\n        //  var ie = /msie (\\\\d+\\\\.\\\\d+)/i.test(navigator.userAgent) ? (document.documentMode || +RegExp[\\'$1\\']) : undefined;\\n        if (!/chrome|firefox|safari|msie 10|rsv:11|msie [89]/i.test(navigator.userAgent)) {\\n            return;\\n        }\\n\\n        window.BaiduHttps = window.BaiduHttps || {};\\n        window.BaiduHttps.callbacks = function (data) {\\n            if (data && data.s === 0) {\\n                window.supportHttps = 1;\\n                setTimeout(function () {\\n                    $(\\'a[href^=\"http://www.baidu.com/s?\"]\\').each(function (index, item) {\\n                        var link = $(item).attr(\\'href\\');\\n                        if (~link.indexOf(\\'?wd=\\') || ~link.indexOf(\\'&wd=\\')) {\\n                            link = link.replace(/^http/, \\'https\\');\\n                            $(item).attr(\\'href\\', link);\\n                        }\\n                    });\\n                }, 2000);\\n            }\\n        };\\n\\n        var script = document.createElement(\\'script\\');\\n        script.type = \\'text/javascript\\';\\n        script.src = \\'https://www.baidu.com/con?from=zhidao\\';\\n        document.body.appendChild(script);\\n    });\\n</script>\\n\\n    \\n        <script>\\n            var DV_ARG = {};\\n            DV_ARG.Token = \\'tk\\' + Math.random() + new Date().getTime(); //\\xbd\\xa8\\xd2\\xe9\\xd3\\xc9\\xba\\xf3\\xb6\\xcb\\xc9\\xfa\\xb3\\xc9\\n            DV_ARG.tpl = \\'iknow\\';\\n            DV_ARG.scene = \\'iknowpc\\';//scene\\n            DV_ARG.trans = \\'\\';//\\xcd\\xb8\\xb4\\xab\\xb2\\xce\\xca\\xfd ,\\xc0\\xa9\\xd5\\xb9\\xca\\xb9\\xd3\\xc3\\n        </script>\\n        <script src=\"https://passport.baidu.com/static/passpc-base/js/dv2/ld.min.js\"></script>\\n    \\n</html>\\n'\n"
     ]
    }
   ],
   "source": [
    "import urllib.request as urlr\n",
    "page = urlr.urlopen('https://zhidao.baidu.com/daily')\n",
    "html = page.read()\n",
    "print(html)\n"
   ]
  }
 ],
 "metadata": {
  "kernelspec": {
   "display_name": "Python 3",
   "language": "python",
   "name": "python3"
  },
  "language_info": {
   "codemirror_mode": {
    "name": "ipython",
    "version": 3
   },
   "file_extension": ".py",
   "mimetype": "text/x-python",
   "name": "python",
   "nbconvert_exporter": "python",
   "pygments_lexer": "ipython3",
   "version": "3.6.1"
  }
 },
 "nbformat": 4,
 "nbformat_minor": 2
}
