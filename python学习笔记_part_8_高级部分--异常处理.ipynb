{
 "cells": [
  {
   "cell_type": "markdown",
   "metadata": {},
   "source": [
    "## 高级部分--异常处理"
   ]
  },
  {
   "cell_type": "markdown",
   "metadata": {},
   "source": [
    "### 异常的引发（抛出）\n",
    "    如果不捕获或以任何其他方式处理出现的异常，python将立即停止程序，并显示栈跟踪\n",
    "    常见能引发异常的错误：\n",
    "        IOError: 文件读写错误（文件不存在、...）\n",
    "        ZeroDivisionError: 除零错误\n",
    "        SyntaxError: 语法错误\n",
    "        ...\n",
    "#### [关于异常的文档](http://docs.python.org/3/library/exceptions.html#bltin-exceptions)"
   ]
  },
  {
   "cell_type": "code",
   "execution_count": 1,
   "metadata": {},
   "outputs": [
    {
     "ename": "OSError",
     "evalue": "This is a test",
     "output_type": "error",
     "traceback": [
      "\u001b[1;31m---------------------------------------------------------------------------\u001b[0m",
      "\u001b[1;31mOSError\u001b[0m                                   Traceback (most recent call last)",
      "\u001b[1;32m<ipython-input-1-daf9a4a1c2bb>\u001b[0m in \u001b[0;36m<module>\u001b[1;34m()\u001b[0m\n\u001b[0;32m      1\u001b[0m \u001b[1;31m# 故意引发异常\u001b[0m\u001b[1;33m\u001b[0m\u001b[1;33m\u001b[0m\u001b[0m\n\u001b[1;32m----> 2\u001b[1;33m \u001b[1;32mraise\u001b[0m \u001b[0mIOError\u001b[0m\u001b[1;33m(\u001b[0m\u001b[1;34m'This is a test'\u001b[0m\u001b[1;33m)\u001b[0m\u001b[1;33m\u001b[0m\u001b[0m\n\u001b[0m",
      "\u001b[1;31mOSError\u001b[0m: This is a test"
     ]
    }
   ],
   "source": [
    "# 可以故意引发异常\n",
    "raise IOError('This is a test')"
   ]
  },
  {
   "cell_type": "markdown",
   "metadata": {},
   "source": [
    "### 异常的捕获（处理）\n",
    "    如何获知会引发哪种异常呢？一是可以通过函数的文档获悉，官网的函数文档一般会告诉我们它可能会引发哪种异常。如果查不到，则可以在命令行里进行试验。\n",
    "    只要try块中代码抛出异常，则将跳过其后的所有语句并跳转到except块中，如果没发生异常，则不会执行except块中的语句。一个try块后可以跟多个except块。"
   ]
  },
  {
   "cell_type": "code",
   "execution_count": 7,
   "metadata": {},
   "outputs": [
    {
     "name": "stdout",
     "output_type": "stream",
     "text": [
      "13\n",
      "ValueError or TypeError\n"
     ]
    }
   ],
   "source": [
    "def convert_to_int1(s,base):\n",
    "    try:\n",
    "        return int(s,base)\n",
    "    except (ValueError, TypeError):\n",
    "        return 'ValueError or TypeError'\n",
    "print(convert_to_int1('1101',2))\n",
    "print(convert_to_int1(8,2.5))"
   ]
  },
  {
   "cell_type": "code",
   "execution_count": 11,
   "metadata": {},
   "outputs": [
    {
     "name": "stdout",
     "output_type": "stream",
     "text": [
      "13\n",
      "Type Error\n",
      "Type Error\n",
      "Value Error\n"
     ]
    }
   ],
   "source": [
    "# 捕获多种异常\n",
    "def convert_to_int2(s,base):\n",
    "    try:\n",
    "        return int(s,base)\n",
    "    except ValueError:\n",
    "        return 'Value Error'\n",
    "    except TypeError:\n",
    "        return 'Type Error'\n",
    "print(convert_to_int2('1101',2))\n",
    "print(convert_to_int2('8',10.5))\n",
    "print(convert_to_int2(8,16))\n",
    "print(convert_to_int2('8',2))"
   ]
  },
  {
   "cell_type": "code",
   "execution_count": 13,
   "metadata": {},
   "outputs": [
    {
     "name": "stdout",
     "output_type": "stream",
     "text": [
      "13\n",
      "Type Error\n",
      "Value Error\n"
     ]
    }
   ],
   "source": [
    "# 捕获所有异常\n",
    "def convert_to_int3(s,base):\n",
    "    try:\n",
    "        return int(s,base)\n",
    "    except:\n",
    "        return 'Some Error'\n",
    "print(convert_to_int2('1101',2))\n",
    "print(convert_to_int2('8',10.5))\n",
    "print(convert_to_int2('8',2))"
   ]
  },
  {
   "cell_type": "markdown",
   "metadata": {},
   "source": [
    "### 清理操作\n",
    "    清理操作finally块不管是否发生了异常，一定会最终被执行。例如，通常将关闭文件操作的语句放在finally块中，这样文件肯定会被关闭，即便发生了IOError异常。"
   ]
  },
  {
   "cell_type": "code",
   "execution_count": 14,
   "metadata": {},
   "outputs": [
    {
     "name": "stdout",
     "output_type": "stream",
     "text": [
      "invert(2) done\n",
      "0.5\n",
      "invert(0) done\n",
      "zero division error\n"
     ]
    }
   ],
   "source": [
    "def invert(x):\n",
    "    try:\n",
    "        return 1 / x\n",
    "    except ZeroDivisionError:\n",
    "        return 'zero division error'\n",
    "    finally:\n",
    "        print('invert({}) done'.format(x))\n",
    "print(invert(2))\n",
    "print(invert(0))"
   ]
  }
 ],
 "metadata": {
  "kernelspec": {
   "display_name": "Python 3",
   "language": "python",
   "name": "python3"
  },
  "language_info": {
   "codemirror_mode": {
    "name": "ipython",
    "version": 3
   },
   "file_extension": ".py",
   "mimetype": "text/x-python",
   "name": "python",
   "nbconvert_exporter": "python",
   "pygments_lexer": "ipython3",
   "version": "3.6.1"
  }
 },
 "nbformat": 4,
 "nbformat_minor": 2
}
