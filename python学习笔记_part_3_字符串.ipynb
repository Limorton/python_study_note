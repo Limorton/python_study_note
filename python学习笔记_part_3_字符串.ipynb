{
 "cells": [
  {
   "cell_type": "markdown",
   "metadata": {},
   "source": [
    "## 语法部分：字符串（除数字外最重要的数据类型）"
   ]
  },
  {
   "cell_type": "markdown",
   "metadata": {},
   "source": [
    "### 负数索引\n",
    "假如要访问一个字符串的最后一个或几个字符，可以使用负数索引"
   ]
  },
  {
   "cell_type": "code",
   "execution_count": 1,
   "metadata": {},
   "outputs": [
    {
     "name": "stdout",
     "output_type": "stream",
     "text": [
      "e\n",
      "l\n"
     ]
    }
   ],
   "source": [
    "s = 'sample'\n",
    "print(s[-1]) # or print(s[len(s) - 1])\n",
    "print(s[-2])"
   ]
  },
  {
   "cell_type": "markdown",
   "metadata": {},
   "source": [
    "### 使用for循环访问字符\n",
    "同C++11新特性中的for一样"
   ]
  },
  {
   "cell_type": "code",
   "execution_count": 4,
   "metadata": {},
   "outputs": [
    {
     "name": "stdout",
     "output_type": "stream",
     "text": [
      "samplesample"
     ]
    }
   ],
   "source": [
    "for i in s:\n",
    "    print(i, end = '')\n",
    "for i in range(len(s)): # not a good way\n",
    "    print(s[i], end = '')"
   ]
  },
  {
   "cell_type": "markdown",
   "metadata": {},
   "source": [
    "### 字符与编码(Unicode)"
   ]
  },
  {
   "cell_type": "code",
   "execution_count": 5,
   "metadata": {},
   "outputs": [
    {
     "name": "stdout",
     "output_type": "stream",
     "text": [
      "97\n",
      "c\n"
     ]
    }
   ],
   "source": [
    "# 可以使用函数ord来获取字符的编码号(Unicode中)\n",
    "print(ord('a'))\n",
    "# 可以使用函数chr来获取编码号对应的字符\n",
    "print(chr(99))"
   ]
  },
  {
   "cell_type": "markdown",
   "metadata": {},
   "source": [
    "#### 转义字符：常见转义字符——\n",
    "    \\\\    反斜杠\n",
    "    \\'    单引号\n",
    "    \\\"    双引号\n",
    "    \\n    换行符\n",
    "    \\r    回车\n",
    "    \\t    水平制表符\n",
    "    在表示文本行末尾上，不同操作系统标准不同。windows使用\\r\\n表示行尾，OS X和linux使用\\n"
   ]
  },
  {
   "cell_type": "markdown",
   "metadata": {},
   "source": [
    "### 字符串切片\n",
    "本质就是字符串的子串，指定两个索引--子串开始的索引和最后一个索引+1。默认步长为1，同时也支持自定义步长。s[begin:end：step]返回从索引begin到end-1的子串。切片的起始索引默认为0，终止索引默认为字符串的末尾。切片中的索引也支持负数索引和负数步长"
   ]
  },
  {
   "cell_type": "code",
   "execution_count": 49,
   "metadata": {},
   "outputs": [
    {
     "name": "stdout",
     "output_type": "stream",
     "text": [
      "apple\n",
      "pie\n",
      "apple\n",
      "pie\n",
      "apple pie\n",
      "pl i\n",
      "i lp\n",
      "eip elppa\n"
     ]
    }
   ],
   "source": [
    "food = 'apple pie'\n",
    "print(food[0:5])\n",
    "print(food[6:9])\n",
    "print(food[:5])\n",
    "print(food[6:])\n",
    "print(food[:])\n",
    "print(food[1:8:2])\n",
    "print(food[7:0:-2])\n",
    "# 使用切片实现序列翻转\n",
    "print(food[::-1])"
   ]
  },
  {
   "cell_type": "code",
   "execution_count": 8,
   "metadata": {
    "collapsed": true
   },
   "outputs": [],
   "source": [
    "# 获取文件的扩展名\n",
    "def get_ext(fname):\n",
    "    '''\n",
    "    Returns the extension of file fname.\n",
    "    '''\n",
    "    dot = fname.rfind('.')\n",
    "    if dot == -1: # fname has no '.'\n",
    "        return ''\n",
    "    else:\n",
    "        return fname[dot+1:]"
   ]
  },
  {
   "cell_type": "markdown",
   "metadata": {},
   "source": [
    "### 标准字符串函数"
   ]
  },
  {
   "cell_type": "markdown",
   "metadata": {},
   "source": [
    "#### 1.测试函数"
   ]
  },
  {
   "cell_type": "code",
   "execution_count": 9,
   "metadata": {
    "scrolled": true
   },
   "outputs": [
    {
     "data": {
      "text/plain": [
       "['__add__',\n",
       " '__class__',\n",
       " '__contains__',\n",
       " '__delattr__',\n",
       " '__dir__',\n",
       " '__doc__',\n",
       " '__eq__',\n",
       " '__format__',\n",
       " '__ge__',\n",
       " '__getattribute__',\n",
       " '__getitem__',\n",
       " '__getnewargs__',\n",
       " '__gt__',\n",
       " '__hash__',\n",
       " '__init__',\n",
       " '__init_subclass__',\n",
       " '__iter__',\n",
       " '__le__',\n",
       " '__len__',\n",
       " '__lt__',\n",
       " '__mod__',\n",
       " '__mul__',\n",
       " '__ne__',\n",
       " '__new__',\n",
       " '__reduce__',\n",
       " '__reduce_ex__',\n",
       " '__repr__',\n",
       " '__rmod__',\n",
       " '__rmul__',\n",
       " '__setattr__',\n",
       " '__sizeof__',\n",
       " '__str__',\n",
       " '__subclasshook__',\n",
       " 'capitalize',\n",
       " 'casefold',\n",
       " 'center',\n",
       " 'count',\n",
       " 'encode',\n",
       " 'endswith',\n",
       " 'expandtabs',\n",
       " 'find',\n",
       " 'format',\n",
       " 'format_map',\n",
       " 'index',\n",
       " 'isalnum',\n",
       " 'isalpha',\n",
       " 'isdecimal',\n",
       " 'isdigit',\n",
       " 'isidentifier',\n",
       " 'islower',\n",
       " 'isnumeric',\n",
       " 'isprintable',\n",
       " 'isspace',\n",
       " 'istitle',\n",
       " 'isupper',\n",
       " 'join',\n",
       " 'ljust',\n",
       " 'lower',\n",
       " 'lstrip',\n",
       " 'maketrans',\n",
       " 'partition',\n",
       " 'replace',\n",
       " 'rfind',\n",
       " 'rindex',\n",
       " 'rjust',\n",
       " 'rpartition',\n",
       " 'rsplit',\n",
       " 'rstrip',\n",
       " 'split',\n",
       " 'splitlines',\n",
       " 'startswith',\n",
       " 'strip',\n",
       " 'swapcase',\n",
       " 'title',\n",
       " 'translate',\n",
       " 'upper',\n",
       " 'zfill']"
      ]
     },
     "execution_count": 9,
     "metadata": {},
     "output_type": "execute_result"
    }
   ],
   "source": [
    "dir('')  # 获取字符串类型自带的函数"
   ]
  },
  {
   "cell_type": "code",
   "execution_count": 13,
   "metadata": {},
   "outputs": [
    {
     "name": "stdout",
     "output_type": "stream",
     "text": [
      "True\n",
      "False\n",
      "True\n",
      "True\n",
      "True\n",
      "True\n"
     ]
    }
   ],
   "source": [
    "s = 'cheese'\n",
    "t = 'se'\n",
    "# 常用字符串测试函数\n",
    "print(s.endswith(t))  # s以t结尾\n",
    "print(s.startswith(t))# s以t开始\n",
    "print(s.isalnum()) # 只包含字母和数字\n",
    "print(s.isalpha()) # 只包含字母\n",
    "print(s.islower()) # 只包含小写字母\n",
    "print(t in s)      # s包含字符串t"
   ]
  },
  {
   "cell_type": "markdown",
   "metadata": {},
   "source": [
    "#### 2.搜索函数"
   ]
  },
  {
   "cell_type": "code",
   "execution_count": 12,
   "metadata": {},
   "outputs": [
    {
     "name": "stdout",
     "output_type": "stream",
     "text": [
      "3\n",
      "-1\n"
     ]
    }
   ],
   "source": [
    "s = 'cheeses'\n",
    "t = 'es'\n",
    "print(s.find(t))   # 返回传入字符串t第一次出现的起始位置索引\n",
    "print(s.index(t))  # 函数index和find之间的差别是如果没有找到子串，find函数返回-1，而index函数则引发ValueError异常\n",
    "print(s.find('eee'))\n",
    "print(s.find('ee'))\n",
    "print(s.rfind(t))  # 返回传入字符串t最后一次出现的起始位置索引\n",
    "print(s.rindex(t)) # 函数rindex和rfind之间的差别是如果没有找到子串，rfind函数返回-1，而rindex函数则引发ValueError异常\n",
    "\n"
   ]
  },
  {
   "cell_type": "markdown",
   "metadata": {},
   "source": [
    "#### 3.改变大小写函数\n",
    "  python提供各种修改大小写的函数，但绝不会修改字符串，在这所有函数中，python都会创建并返回一个新字符串"
   ]
  },
  {
   "cell_type": "code",
   "execution_count": 17,
   "metadata": {},
   "outputs": [
    {
     "name": "stdout",
     "output_type": "stream",
     "text": [
      "I love china.\n",
      "i love china.\n",
      "I LOVE CHINA.\n",
      "I LOVE cHINA.\n",
      "I Love China.\n"
     ]
    }
   ],
   "source": [
    "s = 'i love China.'\n",
    "print(s.capitalize()) # 将s[0]改为大写\n",
    "print(s.lower())      # 全部字母小写\n",
    "print(s.upper())      # 全部字母大写\n",
    "print(s.swapcase())   # 小写字母改大写，大写字母改小写\n",
    "print(s.title())      # 单词首字母大写"
   ]
  },
  {
   "cell_type": "markdown",
   "metadata": {},
   "source": [
    "#### 4.设置格式的函数"
   ]
  },
  {
   "cell_type": "code",
   "execution_count": 21,
   "metadata": {},
   "outputs": [
    {
     "name": "stdout",
     "output_type": "stream",
     "text": [
      "---abc----\n",
      "abc-------\n",
      "-------abc\n",
      "Jack and Tom likes Soccer.\n",
      "S.format(*args, **kwargs) -> str\n",
      "\n",
      "Return a formatted version of S, using substitutions from args and kwargs.\n",
      "The substitutions are identified by braces ('{' and '}').\n"
     ]
    }
   ],
   "source": [
    "s = 'abc'\n",
    "ch = '-'\n",
    "print(s.center(10, ch)) # 包含n个字符的字符串，其中s位于中央，两边用字符ch填充\n",
    "print(s.ljust(10,ch))   # 字符串左对齐，右边用ch填充\n",
    "print(s.rjust(10,ch))   # 字符串右对齐，左边用ch填充\n",
    "t = '{0} and {1} likes {2}.'.format('Jack', 'Tom', 'Soccer')\n",
    "print(t)                # 字符串中的{i}被替换成相应字符串或变量的值，这里只演示了format函数的最基本用法\n",
    "print(''.format.__doc__)"
   ]
  },
  {
   "cell_type": "markdown",
   "metadata": {},
   "source": [
    "#### 5.字符串剥除与拆分函数"
   ]
  },
  {
   "cell_type": "code",
   "execution_count": 47,
   "metadata": {},
   "outputs": [
    {
     "name": "stdout",
     "output_type": "stream",
     "text": [
      "appple a pen a pineapple.!!!.!.!.\n",
      "strip:le a pen a pineapple.!!!.!.!.\n",
      "lstrip:le a pen a pineapple.!!!.!.!.\n",
      "rstrip:appple a pen a pineapple\n",
      "partition kind:\n",
      "('appple a ', 'pen', ' a pineapple.!!!.!.!.')\n",
      "('appple a pen a pine', 'a', 'pple.!!!.!.!.')\n",
      "['', 'ppple ', ' pen ', ' pine', 'pple.!!!.!.!.']\n",
      "['app', 'e a pen a pineap', 'e.!!!.!.!.']\n",
      "['i', 'love', 'china.']\n"
     ]
    }
   ],
   "source": [
    "t = '  appple a pen a pineapple.!!!.!.!.  '\n",
    "# 字符串剥除函数\n",
    "# s.strip(str):删除字符串开头或末尾包含在字符串str中的字符(直到碰到不在str中的字符)，参数为空时默认删除空白符（包括'\\n','\\r','\\t',' ')\n",
    "s = t.strip()\n",
    "print(s)\n",
    "print('strip:' + s.strip('ap'))\n",
    "print('lstrip:' + s.lstrip('ap'))\n",
    "print('rstrip:' + s.rstrip('a!!.'))\n",
    "# 字符串拆分函数\n",
    "print('partition kind:')\n",
    "print(s.partition('pen'))  # 将s以从左端搜索到的第一个‘pen'为中间字符串，分为左中右三个字符串\n",
    "print(s.rpartition('a'))   # 同上，但是从右边开始搜索\n",
    "print(s.split('a'))        # 将s以'a'为分隔符，划分为一系列子串，并返回一个子串组成的列表\n",
    "print(s.rsplit('pl'))      # 同上，但从右边分\n",
    "t = '''i\n",
    "love\n",
    "china.\n",
    "'''\n",
    "print(t.splitlines())      # 返回一个由t中各行组成的列表"
   ]
  },
  {
   "cell_type": "markdown",
   "metadata": {},
   "source": [
    "#### 6.字符串替换与其他函数"
   ]
  },
  {
   "cell_type": "code",
   "execution_count": 45,
   "metadata": {
    "scrolled": true
   },
   "outputs": [
    {
     "name": "stdout",
     "output_type": "stream",
     "text": [
      "i love:\tnoddles & meat\n",
      "i love:   noddles and meat\n",
      "1\n",
      "a.dog's.story\n",
      "i love:\tno44les 1n4 me1t\n"
     ]
    }
   ],
   "source": [
    "s = 'i love:\\tnoddles and meat'\n",
    "print(s.replace('and', '&')) # 将s中的每个'and'替换为'&'\n",
    "print(s.expandtabs(10))      # 将s中的每个制表符替换为n个空格\n",
    "print(s.count('no'))         # 计算'no'在s中出现的次数\n",
    "# s.encode('utf-8')          # 设置s的编码，更详细的请自行百度\n",
    "t = ['a', \"dog's\", 'story']\n",
    "q = '.'\n",
    "print(q.join(t))             # 使用q将t中的字符串连接成一个字符串\n",
    "rule = ''.maketrans('abcd','1234') # 一个转换规则，将字符'a,b,c,d'分别转换为’1，2，3，4'\n",
    "print(s.translate(rule))     # 将s应用rule转换规则"
   ]
  },
  {
   "cell_type": "markdown",
   "metadata": {},
   "source": [
    "### 正则表达式"
   ]
  },
  {
   "cell_type": "markdown",
   "metadata": {},
   "source": [
    "正则表达式可用于执行字符串匹配、分拆和替换。\n",
    "正则表达式是一种设计用来处理字符串的微型语言，正则表达式内容丰富，查找更多说明——\n",
    "    [python中的正则表达式](http://docs.python.org/3/library/re.html)"
   ]
  },
  {
   "cell_type": "code",
   "execution_count": 48,
   "metadata": {},
   "outputs": [
    {
     "name": "stdout",
     "output_type": "stream",
     "text": [
      "True\n"
     ]
    }
   ],
   "source": [
    "import re  # 导入正则表达式库\n",
    "def is_funny(s):\n",
    "    return re.match('(ha)+!+',s) != None\n",
    "print(is_funny('ha!!!'))"
   ]
  }
 ],
 "metadata": {
  "kernelspec": {
   "display_name": "Python 3",
   "language": "python",
   "name": "python3"
  },
  "language_info": {
   "codemirror_mode": {
    "name": "ipython",
    "version": 3
   },
   "file_extension": ".py",
   "mimetype": "text/x-python",
   "name": "python",
   "nbconvert_exporter": "python",
   "pygments_lexer": "ipython3",
   "version": "3.6.1"
  }
 },
 "nbformat": 4,
 "nbformat_minor": 2
}
