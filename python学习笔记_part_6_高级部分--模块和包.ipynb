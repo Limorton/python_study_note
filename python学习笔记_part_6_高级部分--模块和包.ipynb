{
 "cells": [
  {
   "cell_type": "markdown",
   "metadata": {},
   "source": [
    "## 高级部分：模块和包\n",
    "    Python的程序由包（package）、模块（module）和函数组成。包是由一系列模块组成的集合。模块是处理某一类问题的函数和类的集合。\n",
    "包就是一个完成特定任务的工具箱，Python提供了许多有用的工具包，如字符串处理、图形用户接口、Web应用、图形图像处理等。这些自带的工具包和模块安装在Python的安装目录下的Lib子目录中。\n",
    "    注意：\n",
    "    包必须至少含有一个__init__.py文件按，该文件的内容可以为空。__init__.py用于标识当前文件夹是一个包。"
   ]
  },
  {
   "cell_type": "markdown",
   "metadata": {},
   "source": [
    "### 模块\n",
    "   在python中一个文件可以被看成一个独立模块，而包对应着文件夹，模块把python代码分成一些有组织的代码段，通过导入的方式实现代码重用。\n",
    "导入模块时，是按照sys.path变量的值搜索模块，sys.path的值是包含每一个独立路径的列表，包含当前目录、python安装目录、PYTHONPATH环境变量，搜索顺序按照路径在列表中的顺序（一般当前目录优先级最高）。如果你发现你在某个地方写的文件（包）import错误，你就可以看看这个sys.path是否囊括了你那批文件的根目录。如果你发现你在某个地方写的文件（包）import错误，你就可以看看这个sys.path是否囊括了你那批文件的根目录。"
   ]
  },
  {
   "cell_type": "code",
   "execution_count": 1,
   "metadata": {},
   "outputs": [
    {
     "name": "stdout",
     "output_type": "stream",
     "text": [
      "['', 'd:\\\\program files\\\\python 3.6.0\\\\python36.zip', 'd:\\\\program files\\\\python 3.6.0\\\\DLLs', 'd:\\\\program files\\\\python 3.6.0\\\\lib', 'd:\\\\program files\\\\python 3.6.0', 'd:\\\\program files\\\\python 3.6.0\\\\lib\\\\site-packages', 'd:\\\\program files\\\\python 3.6.0\\\\lib\\\\site-packages\\\\IPython\\\\extensions', 'C:\\\\Users\\\\Administrator\\\\.ipython']\n"
     ]
    }
   ],
   "source": [
    "# 查看自己的Python路径\n",
    "import sys\n",
    "print(sys.path)"
   ]
  },
  {
   "cell_type": "markdown",
   "metadata": {},
   "source": [
    "#### 导入模块\n",
    "    推荐按照下面的顺序导入模块，并且一般在文件首部导入所有的模块\n",
    "        python标准库\n",
    "        第三方模块\n",
    "        应用程序自定义模块"
   ]
  },
  {
   "cell_type": "code",
   "execution_count": 2,
   "metadata": {
    "collapsed": true
   },
   "outputs": [],
   "source": [
    "import numpy as np\n",
    "# 也可以一行导入多个模块，不过可读性差\n",
    "# import module1,module2,module3\n",
    "\n",
    "# 从某库中导入某个子库，*表示导入全部\n",
    "from sklearn import cross_validation\n",
    "from pandas import *  # 不推荐这种导入方式，除非原库很大而程序只用到其中某些模块"
   ]
  },
  {
   "cell_type": "markdown",
   "metadata": {},
   "source": [
    "### 包\n",
    "    包将有联系的模块组织在一起，有效避免模块名称冲突问题，让应用组织结构更加清晰。\n",
    "    一个普通的python应用程序目录结构如下：\n",
    "     app/\n",
    "    __init__.py\n",
    "    a/\n",
    "    __init__.py\n",
    "    a.py\n",
    "    b/\n",
    "    __init__.py\n",
    "    b.py\n",
    "    app是最顶层的包，a和b是它的子包，可以这样导入：\n",
    "        from app.a import a\n",
    "        from app.b.b import test\n",
    "\n",
    "        a.test()\n",
    "        test()\n",
    "    上面代码表示：导入app包的子包a和子包b的属性test，然后分别调用test方法。\n",
    "    每个目录下都有__init__.py文件，这个是初始化模块，from-import语句导入子包时需要它，可以在里面做一些初始化工作，也可以是空文件。ps：__init__.py定义的属性直接使用 顶层包.子包 的方式导入，如在目录a的__init__.py文件中定义init_db()方法，调用如下：\n",
    "    from app import a\n",
    "\n",
    "    a.init_db()下都有__init__.py文件，这个是初始化模块，from-import语句导入子包时需要它，可以在里面做一些初始化工作，也可以是空文件。ps：__init__.py定义的属性直接使用 顶层包.子包 的方式导入，如在目录a的__init__.py文件中定义init_db()方法，调用如下：\n",
    "    from app import a\n",
    "\n",
    "    a.init_db()"
   ]
  },
  {
   "cell_type": "code",
   "execution_count": 7,
   "metadata": {},
   "outputs": [
    {
     "data": {
      "text/plain": [
       "environ({'ACTEL_FOR_ALTIUM_OVERRIDE': ' ', 'AGSDESKTOPJAVA': 'D:\\\\Program Files (x86)\\\\ArcGIS\\\\Desktop10.2\\\\', 'ALLUSERSPROFILE': 'C:\\\\ProgramData', 'ALTERA_FOR_ALTIUM_OVERRIDE': ' ', 'APPDATA': 'C:\\\\Users\\\\Administrator\\\\AppData\\\\Roaming', 'COMMONPROGRAMFILES': 'C:\\\\Program Files\\\\Common Files', 'COMMONPROGRAMFILES(X86)': 'C:\\\\Program Files (x86)\\\\Common Files', 'COMMONPROGRAMW6432': 'C:\\\\Program Files\\\\Common Files', 'COMPUTERNAME': 'PC-LICHANGJUN', 'COMSPEC': 'C:\\\\WINDOWS\\\\system32\\\\cmd.exe', 'CONDA_DEFAULT_ENV': 'D:\\\\ProgramFile\\\\Anaconda3', 'CONDA_PS1_BACKUP': '$P$G', 'CONDA_ROOT': 'D:\\\\ProgramFile\\\\Anaconda3', 'CRX_PATH_2016_X64': 'E:\\\\Program Files\\\\CAXA\\\\CAXA CAD\\\\2016\\\\CRX\\\\', 'FPS_BROWSER_APP_PROFILE_STRING': 'Internet Explorer', 'FPS_BROWSER_USER_PROFILE_STRING': 'Default', 'HOMEDRIVE': 'C:', 'HOMEPATH': '\\\\Users\\\\Administrator', 'LOCALAPPDATA': 'C:\\\\Users\\\\Administrator\\\\AppData\\\\Local', 'LOGONSERVER': '\\\\\\\\PC-LICHANGJUN', 'NUMBER_OF_PROCESSORS': '8', 'OS': 'Windows_NT', 'PATH': 'D:\\\\ProgramFile\\\\Anaconda3\\\\Library\\\\bin;D:\\\\ProgramFile\\\\Anaconda3\\\\Library\\\\bin;D:\\\\ProgramFile\\\\Anaconda3\\\\Library\\\\bin;D:\\\\ProgramFile\\\\Anaconda3;D:\\\\ProgramFile\\\\Anaconda3\\\\Library\\\\mingw-w64\\\\bin;D:\\\\ProgramFile\\\\Anaconda3\\\\Library\\\\usr\\\\bin;D:\\\\ProgramFile\\\\Anaconda3\\\\Library\\\\bin;D:\\\\ProgramFile\\\\Anaconda3\\\\Scripts;D:\\\\ProgramFile\\\\Anaconda3\\\\Library\\\\bin;C:\\\\windows\\\\system32;C:\\\\windows;C:\\\\windows\\\\System32\\\\Wbem;C:\\\\windows\\\\System32\\\\WindowsPowerShell\\\\v1.0\\\\;C:\\\\Users\\\\Administrator\\\\.dnx\\\\bin;C:\\\\Program Files\\\\Microsoft DNX\\\\Dnvm\\\\;C:\\\\Program Files (x86)\\\\Windows Kits\\\\8.1\\\\Windows Performance Toolkit\\\\;C:\\\\Program Files\\\\Microsoft SQL Server\\\\120\\\\Tools\\\\Binn\\\\;C:\\\\Program Files (x86)\\\\Common Files\\\\FLIR Systems\\\\Intel 1.0\\\\;C:\\\\Program Files (x86)\\\\Common Files\\\\Intel\\\\IPP-5.1;E:\\\\Program Files\\\\opencv\\\\build\\\\x86\\\\vc11\\\\bin;E:\\\\Program Files\\\\opencv\\\\build\\\\x64\\\\vc11\\\\bin;D:\\\\Program Files\\\\MATLAB\\\\R2016a\\\\runtime\\\\win64;D:\\\\Program Files\\\\MATLAB\\\\R2016a\\\\bin;D:\\\\Program Files\\\\MATLAB\\\\R2016a\\\\polyspace\\\\bin;C:\\\\WINDOWS\\\\system32;C:\\\\WINDOWS;C:\\\\WINDOWS\\\\System32\\\\Wbem;C:\\\\WINDOWS\\\\System32\\\\WindowsPowerShell\\\\v1.0\\\\;D:\\\\Program Files\\\\doxygen\\\\bin;D:\\\\Program Files\\\\Git\\\\cmd;D:\\\\Program Files\\\\Python 3.6.0\\\\Scripts\\\\;D:\\\\Program Files\\\\Python 3.6.0\\\\;C:\\\\Users\\\\Administrator\\\\AppData\\\\Local\\\\Programs\\\\Python\\\\Launcher\\\\;C:\\\\Users\\\\Administrator\\\\AppData\\\\Local\\\\Microsoft\\\\WindowsApps', 'PATHEXT': '.COM;.EXE;.BAT;.CMD;.VBS;.VBE;.JS;.JSE;.WSF;.WSH;.MSC', 'PROCESSOR_ARCHITECTURE': 'AMD64', 'PROCESSOR_IDENTIFIER': 'Intel64 Family 6 Model 94 Stepping 3, GenuineIntel', 'PROCESSOR_LEVEL': '6', 'PROCESSOR_REVISION': '5e03', 'PROGRAMDATA': 'C:\\\\ProgramData', 'PROGRAMFILES': 'C:\\\\Program Files', 'PROGRAMFILES(X86)': 'C:\\\\Program Files (x86)', 'PROGRAMW6432': 'C:\\\\Program Files', 'PROMPT': '(D:\\\\ProgramFile\\\\Anaconda3) $P$G', 'PSMODULEPATH': 'C:\\\\Program Files\\\\WindowsPowerShell\\\\Modules;C:\\\\WINDOWS\\\\system32\\\\WindowsPowerShell\\\\v1.0\\\\Modules', 'PUBLIC': 'C:\\\\Users\\\\Public', 'SESSIONNAME': 'Console', 'SYSTEMDRIVE': 'C:', 'SYSTEMROOT': 'C:\\\\WINDOWS', 'TEMP': 'C:\\\\Users\\\\ADMINI~1\\\\AppData\\\\Local\\\\Temp', 'TMP': 'C:\\\\Users\\\\ADMINI~1\\\\AppData\\\\Local\\\\Temp', 'USERDOMAIN': 'PC-LICHANGJUN', 'USERDOMAIN_ROAMINGPROFILE': 'PC-LICHANGJUN', 'USERNAME': 'Administrator', 'USERPROFILE': 'C:\\\\Users\\\\Administrator', 'VS140COMNTOOLS': 'D:\\\\Program Files (x86)\\\\Microsoft Visual Studio 14.0\\\\Common7\\\\Tools\\\\', 'WINDIR': 'C:\\\\WINDOWS', 'CONDA_PREFIX': 'D:\\\\ProgramFile\\\\Anaconda3', 'JPY_INTERRUPT_EVENT': '1172', 'IPY_INTERRUPT_EVENT': '1172', 'JPY_PARENT_PID': '1240', 'TERM': 'xterm-color', 'CLICOLOR': '1', 'PAGER': 'cat', 'GIT_PAGER': 'cat', 'MPLBACKEND': 'module://ipykernel.pylab.backend_inline'})"
      ]
     },
     "execution_count": 7,
     "metadata": {},
     "output_type": "execute_result"
    }
   ],
   "source": [
    "import os\n",
    "# 查看系统信息\n",
    "print(os.name)\n",
    "# 查看环境变量\n",
    "print(os.environ)"
   ]
  }
 ],
 "metadata": {
  "kernelspec": {
   "display_name": "Python 3",
   "language": "python",
   "name": "python3"
  },
  "language_info": {
   "codemirror_mode": {
    "name": "ipython",
    "version": 3
   },
   "file_extension": ".py",
   "mimetype": "text/x-python",
   "name": "python",
   "nbconvert_exporter": "python",
   "pygments_lexer": "ipython3",
   "version": "3.6.1"
  }
 },
 "nbformat": 4,
 "nbformat_minor": 2
}
