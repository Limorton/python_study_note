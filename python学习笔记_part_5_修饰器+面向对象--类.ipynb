{
 "cells": [
  {
   "cell_type": "markdown",
   "metadata": {},
   "source": [
    "## 面向对象：类、修饰器"
   ]
  },
  {
   "cell_type": "markdown",
   "metadata": {},
   "source": [
    "### 类的定义"
   ]
  },
  {
   "cell_type": "code",
   "execution_count": 18,
   "metadata": {},
   "outputs": [
    {
     "name": "stdout",
     "output_type": "stream",
     "text": [
      "person('tom',44)\n",
      "person('tom',45)\n",
      "person('tom',45)\n",
      "34\n",
      "hello\n"
     ]
    }
   ],
   "source": [
    "class Person:\n",
    "    '''Class to represent a person'''\n",
    "    # Python中的构造函数形式就是：__init__(self,*args)\n",
    "    def __init__(self, name = 'People', age = 0):\n",
    "        self.__name = name    # 想要设置为私有变量，只需以'__'打头定义变量即可，不以下划线打头的变量是公有变量，想要直接访问，需要在前面\n",
    "        self.__age = age      # 加上'_类名', 如： p._Person__age = 44\n",
    "        \n",
    "    # 参数self指向对象自身，类似于C++和Java中的this指针。\n",
    "    def disp(self):\n",
    "        print(\"person('%s',%d)\" % (self.__name,self.__age))\n",
    "    \n",
    "    # 类中所有函数的第一个参数都是指向对象自身，可以不叫'self'，但标准约定的写法都写作'self'\n",
    "    def pi(july):\n",
    "        print('hello')\n",
    "    \n",
    "p = Person('tom',44)\n",
    "p.disp()\n",
    "p._Person__age = 45    # 修改私有变量__age为45\n",
    "p.disp()\n",
    "p.__age = 34     # 此处意图修改p的私有变量age为34，但实际上是在p对象内定义了一个新的公有变量__age，并将其指向34\n",
    "p.disp()\n",
    "print(p.__age)\n",
    "p.pi()"
   ]
  },
  {
   "cell_type": "markdown",
   "metadata": {},
   "source": [
    "### 显示对象\n",
    "    创建自己的类和对象时，编写函数__str__和__repr__几乎总是值得的。它们对于显示对象的内容和调试很有帮助；\n",
    "    如果定义了方法__repr__，但是没有定义方法__str__，则对对象调用str()时，将执行__repr__；\n",
    "    添加方法__repr__后，通常没必要再编写display方法，直接print(self)即可"
   ]
  },
  {
   "cell_type": "code",
   "execution_count": 20,
   "metadata": {},
   "outputs": [
    {
     "name": "stdout",
     "output_type": "stream",
     "text": [
      "disp::person('tom',44)\n",
      "__str__::person('tom',44)\n",
      "__str__::person('tom',44)\n"
     ]
    }
   ],
   "source": [
    "class Person:\n",
    "    '''Class to represent a person'''\n",
    "    def __init__(self, name = 'People', age = 0):\n",
    "        self.__name = name    \n",
    "        self.__age = age      \n",
    "    \n",
    "    def disp(self):\n",
    "        print(\"disp::person('%s',%d)\" % (self.__name,self.__age))\n",
    "    \n",
    "    # 定制打印函数用于生成对象的字符串表示\n",
    "    def __str__(self):\n",
    "        return \"__str__::person('%s',%d)\" % (self.__name,self.__age)\n",
    "    \n",
    "    # 定制方法__repr__\n",
    "    def __repr__(self):\n",
    "        return \"__repr__::Person('%s',%d)\" % (self.__name,self.__age)\n",
    "p = Person('tom',44)\n",
    "p.disp()\n",
    "print(str(p))\n",
    "print(p)"
   ]
  },
  {
   "cell_type": "markdown",
   "metadata": {},
   "source": [
    "### 设置函数和获取函数\n",
    "    虽然给__init__的参数指定默认值很容易，但从设计角度看不是个好主意，因为空的person对象没有真正意义上的姓名和年龄，因此需要在处理person对象的代码中检查这一点，而始终需要检查很麻烦，所以不建议给__init__的参数指定默认值。而且对于私有变量无法直接更改，所以，推荐使用设置函数和获取函数"
   ]
  },
  {
   "cell_type": "code",
   "execution_count": 23,
   "metadata": {},
   "outputs": [
    {
     "name": "stdout",
     "output_type": "stream",
     "text": [
      "__repr__::Person('Joe',30)\n",
      "__repr__::Person('Joesph',60)\n"
     ]
    }
   ],
   "source": [
    "class Person:\n",
    "    '''Class to represent a person'''\n",
    "    def __init__(self, name = 'People', age = 0):\n",
    "        self.__name = name    \n",
    "        self.__age = age \n",
    "    def __repr__(self):\n",
    "        return \"__repr__::Person('%s',%d)\" % (self.__name,self.__age)\n",
    "    # 设置函数setter\n",
    "    def set_age(self, age):\n",
    "        self.__age = age\n",
    "    def set_name(self, name):\n",
    "        self.__name = name\n",
    "    # 获取函数getter\n",
    "    def get_age(self):\n",
    "        return self.__age\n",
    "    def get_name(self):\n",
    "        return self.__name\n",
    "p = Person('Joe',30)\n",
    "print(p)\n",
    "p.set_age(60)\n",
    "p.set_name('Joesph')\n",
    "print(p)"
   ]
  },
  {
   "cell_type": "markdown",
   "metadata": {},
   "source": [
    "### 类中的特性修饰器\n",
    "    让类的成员函数可以像成员变量一样被调用(融变量的简洁和函数的灵活于一身)\n",
    "    @property  表示这个函数是一个变量获取函数\n",
    "    @[变量名].setter  表示这个函数是一个设置函数"
   ]
  },
  {
   "cell_type": "code",
   "execution_count": 52,
   "metadata": {},
   "outputs": [
    {
     "name": "stdout",
     "output_type": "stream",
     "text": [
      "__repr__::Person('Joe',30)\n",
      "__repr__::Person('Joe',20)\n",
      "__repr__::Person('Joe',20)\n",
      "20\n"
     ]
    }
   ],
   "source": [
    "class Person:\n",
    "    '''Class to represent a person'''\n",
    "    def __init__(self, name = 'People', age = 0):\n",
    "        self.__name = name    \n",
    "        self.__age = age \n",
    "    def __repr__(self):\n",
    "        return \"__repr__::Person('%s',%d)\" % (self.__name,self.__age)\n",
    "    # 获取函数getter\n",
    "    @property\n",
    "    def age(self):\n",
    "        return self.__age\n",
    "    @property\n",
    "    def name(self):\n",
    "        return self.__name\n",
    "    # 设置函数setter\n",
    "    @age.setter\n",
    "    def age(self, age):\n",
    "        if 0 < age < 90:\n",
    "            self.__age = age\n",
    "        else:\n",
    "            pass  # 此处什么都不做，也可以引发异常，这样有助于发现错误\n",
    "    @name.setter\n",
    "    def set_name(self, name):\n",
    "        self.__name = name\n",
    "p = Person('Joe',30)\n",
    "print(p)\n",
    "p.age = 20\n",
    "print(p)\n",
    "p.age = -4\n",
    "print(p)\n",
    "print(p.age)"
   ]
  },
  {
   "cell_type": "markdown",
   "metadata": {},
   "source": [
    "### 修饰器（语言级）\n",
    "    简单的说，装饰器就是对函数的一种装饰，可以在不修改被装饰函数定义和调用的情况下，增加对被调用函数的操作或指定其属性\n",
    "    @funcA\n",
    "    @funcB\n",
    "    @funcC\n",
    "    def func():\n",
    "        ...\n",
    "    如上，可以定义一个多层装饰器，调用func()时实际调用情况是：funcA(funcB(funcC(func())))"
   ]
  },
  {
   "cell_type": "code",
   "execution_count": 50,
   "metadata": {},
   "outputs": [
    {
     "name": "stdout",
     "output_type": "stream",
     "text": [
      "before myfunc() called.\n",
      " myfunc() called.\n",
      "  after myfunc() called.\n",
      "ok2\n",
      "['__class__', '__delattr__', '__delete__', '__dir__', '__doc__', '__eq__', '__format__', '__ge__', '__get__', '__getattribute__', '__gt__', '__hash__', '__init__', '__init_subclass__', '__isabstractmethod__', '__le__', '__lt__', '__ne__', '__new__', '__reduce__', '__reduce_ex__', '__repr__', '__set__', '__setattr__', '__sizeof__', '__str__', '__subclasshook__', 'deleter', 'fdel', 'fget', 'fset', 'getter', 'setter']\n"
     ]
    }
   ],
   "source": [
    "# coding: utf-8 \n",
    "def deco(func):\n",
    "    def _deco():\n",
    "        print(\"before myfunc() called.\")\n",
    "        func()\n",
    "        print(\"  after myfunc() called.\")\n",
    "        return 'ok2'\n",
    "    return _deco\n",
    "@deco\n",
    "def myfunc():\n",
    "    print(\" myfunc() called.\")\n",
    "    return 'ok'\n",
    "\n",
    "s = myfunc()\n",
    "print(s)\n",
    "print(dir(property))"
   ]
  },
  {
   "cell_type": "markdown",
   "metadata": {},
   "source": [
    "#### 饰器的副作用\n",
    "    因为decorator的因素，我们原本的函数其实已经变成了一个叫wrapper函数。\n",
    "    比如，你再调用__name__的时候，他会告诉你，这是 wrapper, 而不是 foo 或者 hello。\n",
    "    当然，虽然功能效果不变，但是有些处女座的童鞋会觉得很不爽。\n",
    "    所以，Python的functool包中提供了一个叫wrap的decorator来消除这样的副作用："
   ]
  },
  {
   "cell_type": "code",
   "execution_count": 1,
   "metadata": {},
   "outputs": [
    {
     "name": "stdout",
     "output_type": "stream",
     "text": [
      "hello, foo\n",
      "i am foo\n",
      "goodby, foo\n",
      "foo\n",
      "foo help doc\n"
     ]
    }
   ],
   "source": [
    "from functools import wraps\n",
    "def hello(fn):\n",
    "    @wraps(fn)\n",
    "    def wrapper():\n",
    "        print(\"hello, %s\" % fn.__name__)\n",
    "        fn()\n",
    "        print(\"goodby, %s\" % fn.__name__)\n",
    "    return wrapper\n",
    " \n",
    "@hello\n",
    "def foo():\n",
    "    '''foo help doc'''\n",
    "    print(\"i am foo\")\n",
    "    pass\n",
    " \n",
    "foo()\n",
    "print(foo.__name__)\n",
    "print(foo.__doc__)"
   ]
  },
  {
   "cell_type": "markdown",
   "metadata": {},
   "source": [
    "#### 修饰器的应用示例：斐波那契数列"
   ]
  },
  {
   "cell_type": "code",
   "execution_count": null,
   "metadata": {
    "collapsed": true
   },
   "outputs": [],
   "source": [
    "from functools import wraps\n",
    "def memo(fn):\n",
    "    cache = {}\n",
    "    miss = object()\n",
    " \n",
    "    @wraps(fn)\n",
    "    def wrapper(*args):\n",
    "        result = cache.get(args, miss)\n",
    "        if result is miss:\n",
    "            result = fn(*args)\n",
    "            cache[args] = result\n",
    "        return result\n",
    " \n",
    "    return wrapper\n",
    " \n",
    "@memo\n",
    "def fib(n):\n",
    "    if n < 2:\n",
    "        return n\n",
    "    return fib(n - 1) + fib(n - 2)"
   ]
  },
  {
   "cell_type": "markdown",
   "metadata": {},
   "source": [
    "我们知道，这个递归是相当没有效率的，因为会重复调用。比如：我们要计算fib(5)，于是其分解成fib(4) + fib(3)，而fib(4)分解成fib(3)+fib(2)，fib(3)又分解成fib(2)+fib(1)…… 你可看到，基本上来说，fib(3), fib(2), fib(1)在整个递归过程中被调用了两次。\n",
    "而我们用decorator，在调用函数前查询一下缓存，如果没有才调用了，有了就从缓存中返回值。一下子，这个递归从二叉树式的递归成了线性的递归。"
   ]
  },
  {
   "cell_type": "markdown",
   "metadata": {},
   "source": [
    "### 类的继承\n",
    "    子类中无法直接访问到继承自父类的私有变量，只能通过父类的函数访问到"
   ]
  },
  {
   "cell_type": "code",
   "execution_count": 78,
   "metadata": {},
   "outputs": [
    {
     "name": "stdout",
     "output_type": "stream",
     "text": [
      "name = 'Jerry', score = 0.00\n",
      "name = 'Jerry', score = 1.00\n"
     ]
    },
    {
     "data": {
      "text/plain": [
       "Human(name = 'Jerry', score = 1.00)"
      ]
     },
     "execution_count": 78,
     "metadata": {},
     "output_type": "execute_result"
    }
   ],
   "source": [
    "class Player(object):\n",
    "    def __init__(self,name):\n",
    "        self.__name = name\n",
    "        self.__score = 0\n",
    "    def reset_score(self):\n",
    "        self.__score = 0\n",
    "    def incr_score(self):\n",
    "        self.__score += 1\n",
    "    @property\n",
    "    def name(self):\n",
    "        return self.__name\n",
    "    def __str__(self):\n",
    "        return \"name = '%s', score = %.2f\" % (self.__name, self.__score)\n",
    "    def __repr__(self):\n",
    "        return 'Player(%s)' % str(self)\n",
    "    \n",
    "# human类继承自player\n",
    "class Human(Player):\n",
    "    # 重写了__repr__方法\n",
    "    def __repr__(self):\n",
    "        return 'Human(%s)' % str(self)\n",
    "    \n",
    "h = Human('Jerry')\n",
    "print(h)\n",
    "h.incr_score()\n",
    "print(h)\n",
    "h"
   ]
  },
  {
   "cell_type": "markdown",
   "metadata": {
    "collapsed": true
   },
   "source": [
    "### 多态\n",
    "    Pyhon不支持多态并且也用不到多态，多态的概念是应用于Java和C#这一类强类型语言中，而Python崇尚“鸭子类型（Duck Typing）”。\n",
    "    什么是鸭子类型？其实翻译成中文最好是叫：好猫类型。\n",
    "    也就是引用了小平同志的一句话，不管黑猫白猫抓到老鼠的就是好猫。\n",
    "    不同于强类型的语言，一个类型的obj只能一种事儿，\n",
    "    在Python中，只要可以被调用，且“不报错运行”的类型，都可以塞进参数中去："
   ]
  },
  {
   "cell_type": "code",
   "execution_count": 85,
   "metadata": {},
   "outputs": [
    {
     "name": "stdout",
     "output_type": "stream",
     "text": [
      "Lia move (1-10):1\n",
      "Hal Bot move: 6\n",
      "Lia move: 1\n",
      "(Computer(name = 'Hal Bot', score = 0.00), Human(name = 'Lia', score = 0.00), 'draw:no winner')\n",
      "Hal Bot move: 7\n",
      "Re Bot move: 7\n",
      "(Computer(name = 'Hal Bot', score = 0.00), Computer(name = 'Re Bot', score = 0.00), 'draw:no winner')\n"
     ]
    }
   ],
   "source": [
    "# 人类玩家\n",
    "class Human(Player):\n",
    "    # 重写了__repr__方法\n",
    "    def __repr__(self):\n",
    "        return 'Human(%s)' % str(self)\n",
    "    def get_move(self):\n",
    "        while True:\n",
    "            try:\n",
    "                n = int(input('%s move (1-10):' % self.name))\n",
    "                if 1 <= n <= 10:\n",
    "                    return n\n",
    "                else:\n",
    "                    print('Oops!')\n",
    "            except:\n",
    "                print('Oops!')\n",
    "# 计算机玩家\n",
    "import random\n",
    "class Computer(Player):\n",
    "    def __repr__(self):\n",
    "        return 'Computer(%s)' % str(self)\n",
    "    def get_move(self):\n",
    "        return random.randint(1,10)\n",
    "# 玩Undercut游戏\n",
    "def play_undercut(p1,p2):\n",
    "    p1.reset_score()\n",
    "    p2.reset_score()\n",
    "    m1 = p1.get_move()\n",
    "    m2 = p2.get_move()\n",
    "    print(\"%s move: %s\" %(p1.name,m1))\n",
    "    print(\"%s move: %s\" %(p2.name,m2))\n",
    "    if m1 == m2 - 1:\n",
    "        p1.incr_score()\n",
    "        return p1,p2,'%s wins!' % p1.name\n",
    "    elif m2 == m1 - 1:\n",
    "        p2.incr_score()\n",
    "        return p2,p1,'%s wins!' % p2.name\n",
    "    else:\n",
    "        return p1,p2,'draw:no winner'\n",
    "\n",
    "c1 = Computer('Hal Bot')\n",
    "c2 = Computer('Re Bot')\n",
    "h = Human('Lia')\n",
    "# 将人类和计算机玩家传入函数\n",
    "print(play_undercut(c1,h))\n",
    "# 将两个计算机玩家传入函数\n",
    "print(play_undercut(c1,c2))"
   ]
  },
  {
   "cell_type": "markdown",
   "metadata": {},
   "source": [
    "### 获取类的信息"
   ]
  },
  {
   "cell_type": "code",
   "execution_count": 87,
   "metadata": {},
   "outputs": [
    {
     "name": "stdout",
     "output_type": "stream",
     "text": [
      "100\n",
      "True\n",
      "True\n",
      "19\n",
      "404\n"
     ]
    }
   ],
   "source": [
    "class MyObject:\n",
    "    def __init__(self):\n",
    "        self.x = 9\n",
    "    def __len__(self):\n",
    "        return 100\n",
    "    def power(self):\n",
    "        return self.x * self.x\n",
    "\n",
    "obj = MyObject()\n",
    "print(len(obj))\n",
    "# 仅仅把属性和方法列出来是不够的，配合getattr()、setattr()以及hasattr()，我们可以直接操作一个对象的状态\n",
    "print(hasattr(obj, 'x')) #有木有属性'x',也可以获得对象的方法：\n",
    "setattr(obj, 'y', 19) # 设置一个属性'y'\n",
    "print(hasattr(obj, 'y')) # 有属性'y'吗？\n",
    "print(getattr(obj, 'y')) # 获取属性'y'\n",
    "print(getattr(obj, 'z', 404)) # 获取属性'z'，如果不存在，返回默认值404\n",
    "fn = getattr(obj, 'power') # 获取属性'power'并赋值到变量fn，此时调用fn()与调用obj.power()是一样的"
   ]
  },
  {
   "cell_type": "markdown",
   "metadata": {},
   "source": [
    "### 类的实例属性和类属性\n",
    "    在编写程序的时候，千万不要把实例属性和类属性使用相同的名字，因为相同名称的实例属性将屏蔽掉类属性，但是当你删除实例属性后，再使用相同的名称，访问到的将是类属性"
   ]
  },
  {
   "cell_type": "code",
   "execution_count": 88,
   "metadata": {},
   "outputs": [
    {
     "name": "stdout",
     "output_type": "stream",
     "text": [
      "Student\n",
      "Student\n",
      "Michael\n",
      "Student\n"
     ]
    }
   ],
   "source": [
    "class Student(object):\n",
    "    name = 'Student'\n",
    "\n",
    "s = Student() # 创建实例s\n",
    "print(s.name) # 打印name属性，因为实例并没有name属性，所以会继续查找class的name属性\n",
    "print(Student.name) # 打印类的name属性\n",
    "s.name = 'Michael' # 给实例绑定name属性\n",
    "print(s.name) # 由于实例属性优先级比类属性高，因此，它会屏蔽掉类的name属性\n",
    "del s.name # 如果删除实例的name属性\n",
    "print(s.name) # 再次调用s.name，由于实例的name属性没有找到，类的name属性就显示出来了"
   ]
  },
  {
   "cell_type": "code",
   "execution_count": 5,
   "metadata": {},
   "outputs": [
    {
     "ename": "SyntaxError",
     "evalue": "invalid syntax (<ipython-input-5-568630d19ad7>, line 9)",
     "output_type": "error",
     "traceback": [
      "\u001b[1;36m  File \u001b[1;32m\"<ipython-input-5-568630d19ad7>\"\u001b[1;36m, line \u001b[1;32m9\u001b[0m\n\u001b[1;33m    np.sum([1.5, 1.7, 0.2, 1.5],, dtype=np.int32)\u001b[0m\n\u001b[1;37m                                ^\u001b[0m\n\u001b[1;31mSyntaxError\u001b[0m\u001b[1;31m:\u001b[0m invalid syntax\n"
     ]
    }
   ],
   "source": [
    "import numpy as np\n",
    "print(np.shape([1,2,3]))\n",
    "print(np.shape([[1,2],[3,4],[5,6]]))\n",
    "e = np.eye(3) # 3x3 单位矩阵\n",
    "print(e)\n",
    "print(e.shape)\n",
    "print(e.shape[0])    # e的第一个维度上的大小\n",
    "print(e.shape[1])    # e的第二个维度上的大小\n",
    "np.sum([1.5, 1.7, 0.2, 1.5],, dtype=np.int32)\n"
   ]
  },
  {
   "cell_type": "code",
   "execution_count": null,
   "metadata": {
    "collapsed": true
   },
   "outputs": [],
   "source": []
  }
 ],
 "metadata": {
  "kernelspec": {
   "display_name": "Python 3",
   "language": "python",
   "name": "python3"
  },
  "language_info": {
   "codemirror_mode": {
    "name": "ipython",
    "version": 3
   },
   "file_extension": ".py",
   "mimetype": "text/x-python",
   "name": "python",
   "nbconvert_exporter": "python",
   "pygments_lexer": "ipython3",
   "version": "3.6.1"
  }
 },
 "nbformat": 4,
 "nbformat_minor": 2
}
