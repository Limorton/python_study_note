{
 "cells": [
  {
   "cell_type": "markdown",
   "metadata": {},
   "source": [
    "编写大型程序时，先得明白要解决的问题。这看似简单，但未能正确认识要解决的问题是极其常见的编程错误。(不要上去就做，先弄清楚要解决的问题是什么)"
   ]
  },
  {
   "cell_type": "markdown",
   "metadata": {},
   "source": [
    "问题描述：计算并打印有关文本文件内容的统计数据。我们想知道给定文本文件包含多少个字符、行和单词。除单词数外，还想知道文件中出现次数最多的前10个单词，并按出现次数排列它们。"
   ]
  },
  {
   "cell_type": "code",
   "execution_count": 1,
   "metadata": {},
   "outputs": [
    {
     "data": {
      "text/plain": [
       "253167"
      ]
     },
     "execution_count": 1,
     "metadata": {},
     "output_type": "execute_result"
    }
   ],
   "source": [
    "book = open('Are the Planets Inhabited.txt').read()\n",
    "len(book)"
   ]
  },
  {
   "cell_type": "code",
   "execution_count": 2,
   "metadata": {},
   "outputs": [
    {
     "data": {
      "text/plain": [
       "4671"
      ]
     },
     "execution_count": 2,
     "metadata": {},
     "output_type": "execute_result"
    }
   ],
   "source": [
    "book.count('\\n')"
   ]
  },
  {
   "cell_type": "code",
   "execution_count": 3,
   "metadata": {},
   "outputs": [
    {
     "data": {
      "text/plain": [
       "43345"
      ]
     },
     "execution_count": 3,
     "metadata": {},
     "output_type": "execute_result"
    }
   ],
   "source": [
    "len(book.split())"
   ]
  },
  {
   "cell_type": "markdown",
   "metadata": {},
   "source": [
    "最终代码："
   ]
  },
  {
   "cell_type": "code",
   "execution_count": 77,
   "metadata": {},
   "outputs": [
    {
     "name": "stdout",
     "output_type": "stream",
     "text": [
      "The file 'Are we.txt' has: \n",
      "    166 characters\n",
      "    7 lines\n",
      "    23 words\n",
      "    18 types of words\n",
      "    4.6521739130434785 average len of words\n",
      "    15 hapax legomenon\n",
      "\n",
      " The top 10 frequent words are:\n",
      " 1.    4 is\n",
      " 2.    2 said\n",
      " 3.    2 are\n",
      " 4.    1 six\n",
      " 5.    1 say\n",
      "#######\n",
      "#######\n",
      "The file 'Are we.txt' has: \n",
      "    166 characters\n",
      "    8 lines\n",
      "    27 words\n",
      "    20 types of words\n",
      "    3.7777777777777777 average len of words\n",
      "    15 hapax legomenon\n",
      "\n",
      " The top 10 frequent words are:\n",
      " 1.    4 is\n",
      " 2.    2 there\n",
      " 3.    2 said\n",
      " 4.    2 dog\n",
      " 5.    2 are\n"
     ]
    }
   ],
   "source": [
    "keep = {'a','b','c','d','e','f','g',\n",
    "        'h','i','j','k','l','m','n',\n",
    "        'o','p','q','r','s','t','u',\n",
    "        'v','w','x','y','z',' ','-',\"'\"}\n",
    "stop_word = {'the','and','i','to','of','a','you','my',\n",
    "             'that','in','at','if','which','where'}\n",
    "\n",
    "def normalize(s):\n",
    "    '''Convert s to a normalized string.'''\n",
    "    # 返回保留需要的字符后的结果\n",
    "    return ''.join(c for c in s.lower() if c in keep)\n",
    "\n",
    "def make_freq_dict(s):\n",
    "    '''Return a dictionary whose keys are the words of s, and whose values are the counts of those word.'''\n",
    "    s = normalize(s)\n",
    "    words = s.split()\n",
    "    d = {}    # 单词频率字典\n",
    "    for w in words:\n",
    "        if w in d:\n",
    "            d[w] += 1\n",
    "        elif w not in stop_word: # 添加了‘忽略排除词’的功能\n",
    "            d[w] = 1\n",
    "    return d\n",
    "\n",
    "def print_file_stats(fname):\n",
    "    '''Print statistics for the given file.'''\n",
    "    s = open(fname).read()\n",
    "    num_chars = len(s)\n",
    "    num_lines = s.count('\\n')\n",
    "    \n",
    "    d1 = make_freq_dict(s)\n",
    "    num_words = sum(d1[w] for w in d1) # 统计单词总数\n",
    "    \n",
    "    # 创建一个列表，其中元素为由出现的单词和其出现次数组成的元组\n",
    "    # 并按出现次数排序\n",
    "    lst = [(d1[w],w) for w in d1]\n",
    "    lst.sort()\n",
    "    lst.reverse()\n",
    "    \n",
    "    # 打印输出结果\n",
    "    print(\"The file '%s' has: \" %fname)\n",
    "    print('    %s characters' % num_chars)\n",
    "    print('    %s lines' % num_lines)\n",
    "    print('    %s words' % num_words)\n",
    "    print('    %s types of words' % len(d1))\n",
    "    \n",
    "    sum_char = 0\n",
    "    for word in d1:\n",
    "        sum_char += d1[word]*len(word)\n",
    "    print('    %s average len of words' % (sum_char / num_words))\n",
    "    sum_hapax = sum(d1[w] for w in d1 if d1[w] == 1)\n",
    "    print('    %s hapax legomenon' % sum_hapax)\n",
    "    \n",
    "    print('\\n The top 10 frequent words are:')\n",
    "    i = 1\n",
    "    for count, word in lst[:5]:\n",
    "        print('%2s. %4s %s' %(i,count,word))\n",
    "        i += 1\n",
    "        \n",
    "def print_file_stats_lines(fname):\n",
    "    num_chars = 0\n",
    "    num_lines = 0\n",
    "    d = {}    # 单词频率字典\n",
    "    \n",
    "    with open(fname) as f:\n",
    "        for line in f:\n",
    "            num_chars += len(line)\n",
    "            num_lines += 1\n",
    "            line = ''.join(c for c in line.lower() if c in keep)\n",
    "            words = line.split()\n",
    "            for w in words:\n",
    "                if w in d:\n",
    "                    d[w] += 1\n",
    "                elif w not in stop_word: # 添加了‘忽略排除词’的功能\n",
    "                    d[w] = 1\n",
    "    num_words = sum(d[w] for w in d)\n",
    "    lst = [(d[w],w) for w in d]\n",
    "    lst.sort()\n",
    "    lst.reverse()\n",
    "    \n",
    "    print(\"The file '%s' has: \" %fname)\n",
    "    print('    %s characters' % num_chars)\n",
    "    print('    %s lines' % num_lines)\n",
    "    print('    %s words' % num_words)\n",
    "    print('    %s types of words' % len(d))\n",
    "    \n",
    "    sum_char = 0\n",
    "    for word in d:\n",
    "        sum_char += d[word]*len(word)\n",
    "    print('    %s average len of words' % (sum_char / num_words))\n",
    "    num_hapax = sum(d[w] for w in d if d[w] == 1)\n",
    "    print('    %s hapax legomenon' % num_hapax)\n",
    "    \n",
    "    print('\\n The top 10 frequent words are:')\n",
    "    i = 1\n",
    "    for count, word in lst[:5]:\n",
    "        print('%2s. %4s %s' %(i,count,word))\n",
    "        i += 1\n",
    "    \n",
    "def main():\n",
    "    print_file_stats('Are the Planets Inhabited.txt')\n",
    "    print('#######')\n",
    "    print('#######')\n",
    "    print_file_stats_lines('Are the Planets Inhabited.txt')\n",
    "\n",
    "if __name__ == '__main__':\n",
    "    main()"
   ]
  },
  {
   "cell_type": "code",
   "execution_count": null,
   "metadata": {
    "collapsed": true
   },
   "outputs": [],
   "source": []
  }
 ],
 "metadata": {
  "kernelspec": {
   "display_name": "Python 3",
   "language": "python",
   "name": "python3"
  },
  "language_info": {
   "codemirror_mode": {
    "name": "ipython",
    "version": 3
   },
   "file_extension": ".py",
   "mimetype": "text/x-python",
   "name": "python",
   "nbconvert_exporter": "python",
   "pygments_lexer": "ipython3",
   "version": "3.6.1"
  }
 },
 "nbformat": 4,
 "nbformat_minor": 2
}
